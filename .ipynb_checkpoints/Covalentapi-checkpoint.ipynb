{
 "cells": [
  {
   "cell_type": "code",
   "execution_count": 1,
   "id": "2ef6a02a-2f6d-4c38-a3c5-4a196690fd95",
   "metadata": {},
   "outputs": [],
   "source": [
    "# Initial imports\n",
    "import os\n",
    "import requests\n",
    "import json\n",
    "from dotenv import load_dotenv\n",
    "import pandas as pd"
   ]
  },
  {
   "cell_type": "code",
   "execution_count": 2,
   "id": "d356b7d3-c2e0-4fec-8e22-7d452e681ce9",
   "metadata": {},
   "outputs": [
    {
     "data": {
      "text/plain": [
       "True"
      ]
     },
     "execution_count": 2,
     "metadata": {},
     "output_type": "execute_result"
    }
   ],
   "source": [
    "# Load .env environment variables\n",
    "load_dotenv()"
   ]
  },
  {
   "cell_type": "code",
   "execution_count": 3,
   "id": "71b7883e-223e-43cc-bc10-4f53df9e0d68",
   "metadata": {},
   "outputs": [
    {
     "data": {
      "text/plain": [
       "32"
      ]
     },
     "execution_count": 3,
     "metadata": {},
     "output_type": "execute_result"
    }
   ],
   "source": [
    "#Set CovalentHQ API Key and check length = 32\n",
    "covalenthq_api_key = os.getenv(\"COVALENTHQ_API_KEY\")\n",
    "len(covalenthq_api_key)"
   ]
  },
  {
   "cell_type": "code",
   "execution_count": 4,
   "id": "25338e90-d148-451e-9f69-f90ce4b79a88",
   "metadata": {},
   "outputs": [],
   "source": [
    "#Set Blockchain and Dex_Name parameters for the covalent api pull\n",
    "chain_id = 1\n",
    "dex_name = 'uniswap_v2'\n",
    "start_date = '2017-08-01'\n",
    "end_date = '2022-08-01'\n",
    "\n",
    "portfolio_df = pd.DataFrame()"
   ]
  },
  {
   "cell_type": "code",
   "execution_count": 5,
   "id": "1e2ed177-a12b-4fb3-a206-86e92b9bfa7f",
   "metadata": {},
   "outputs": [],
   "source": [
    "#Data pull URL with parameters, but not api key\n",
    "cov_coin_list = f\"https://api.covalenthq.com/v1/{chain_id}/xy=k/{dex_name}/tokens/?quote-currency=USD&format=JSON&page-size=1000000000&key=\""
   ]
  },
  {
   "cell_type": "code",
   "execution_count": 6,
   "id": "9a4233d5-6ad8-4e3a-ab84-a8d4b6bf03c5",
   "metadata": {},
   "outputs": [],
   "source": [
    "#Response Data Collection from URL+API_Key \n",
    "response_coin_list = requests.get(cov_coin_list + covalenthq_api_key).json()"
   ]
  },
  {
   "cell_type": "code",
   "execution_count": 7,
   "id": "63146eac-3737-4bed-b70e-694be87e170a",
   "metadata": {},
   "outputs": [],
   "source": [
    "#Create DataFrame from API pull\n",
    "coin_table_ticker = response_coin_list['data']['items']\n",
    "coin_table_df = pd.DataFrame(coin_table_ticker)"
   ]
  },
  {
   "cell_type": "code",
   "execution_count": 8,
   "id": "436d00f6-84f3-4b42-af1c-a8c792dba120",
   "metadata": {},
   "outputs": [
    {
     "data": {
      "text/plain": [
       "chain_name                 0\n",
       "chain_id                   0\n",
       "dex_name                   0\n",
       "contract_address           0\n",
       "contract_name              0\n",
       "total_liquidity            0\n",
       "total_volume_24h           0\n",
       "logo_url                   0\n",
       "contract_ticker_symbol     0\n",
       "contract_decimals          0\n",
       "swap_count_24h             0\n",
       "quote_rate                19\n",
       "total_liquidity_quote     19\n",
       "total_volume_24h_quote    19\n",
       "dtype: int64"
      ]
     },
     "execution_count": 8,
     "metadata": {},
     "output_type": "execute_result"
    }
   ],
   "source": [
    "#Data Cleanup - Check Nulls\n",
    "coin_table_df.isnull().sum()"
   ]
  },
  {
   "cell_type": "code",
   "execution_count": 9,
   "id": "93ad48a8-2aec-4048-b14c-d9a1f2544fdb",
   "metadata": {},
   "outputs": [],
   "source": [
    "#Data Cleanup - Drop Nulls\n",
    "#coin_table_df.dropna()"
   ]
  },
  {
   "cell_type": "code",
   "execution_count": 10,
   "id": "96858fee-a73e-445c-83e5-a27c21a0cfc4",
   "metadata": {},
   "outputs": [
    {
     "data": {
      "text/html": [
       "<div>\n",
       "<style scoped>\n",
       "    .dataframe tbody tr th:only-of-type {\n",
       "        vertical-align: middle;\n",
       "    }\n",
       "\n",
       "    .dataframe tbody tr th {\n",
       "        vertical-align: top;\n",
       "    }\n",
       "\n",
       "    .dataframe thead th {\n",
       "        text-align: right;\n",
       "    }\n",
       "</style>\n",
       "<table border=\"1\" class=\"dataframe\">\n",
       "  <thead>\n",
       "    <tr style=\"text-align: right;\">\n",
       "      <th></th>\n",
       "      <th>chain_name</th>\n",
       "      <th>chain_id</th>\n",
       "      <th>dex_name</th>\n",
       "      <th>contract_address</th>\n",
       "      <th>contract_name</th>\n",
       "      <th>total_liquidity</th>\n",
       "      <th>total_volume_24h</th>\n",
       "      <th>logo_url</th>\n",
       "      <th>contract_ticker_symbol</th>\n",
       "      <th>contract_decimals</th>\n",
       "      <th>swap_count_24h</th>\n",
       "      <th>quote_rate</th>\n",
       "      <th>total_liquidity_quote</th>\n",
       "      <th>total_volume_24h_quote</th>\n",
       "    </tr>\n",
       "  </thead>\n",
       "  <tbody>\n",
       "    <tr>\n",
       "      <th>0</th>\n",
       "      <td>eth-mainnet</td>\n",
       "      <td>1</td>\n",
       "      <td>uniswap_v2</td>\n",
       "      <td>0xa0b86991c6218b36c1d19d4a2e9eb0ce3606eb48</td>\n",
       "      <td>USD Coin</td>\n",
       "      <td>1.751154e+14</td>\n",
       "      <td>1.548294e+14</td>\n",
       "      <td>https://logos.covalenthq.com/tokens/0xa0b86991...</td>\n",
       "      <td>USDC</td>\n",
       "      <td>6</td>\n",
       "      <td>25908</td>\n",
       "      <td>1.001144</td>\n",
       "      <td>1.753156e+08</td>\n",
       "      <td>1.550065e+08</td>\n",
       "    </tr>\n",
       "    <tr>\n",
       "      <th>1</th>\n",
       "      <td>eth-mainnet</td>\n",
       "      <td>1</td>\n",
       "      <td>uniswap_v2</td>\n",
       "      <td>0xdac17f958d2ee523a2206206994597c13d831ec7</td>\n",
       "      <td>Tether USD</td>\n",
       "      <td>5.704762e+13</td>\n",
       "      <td>3.987281e+13</td>\n",
       "      <td>https://logos.covalenthq.com/tokens/0xdac17f95...</td>\n",
       "      <td>USDT</td>\n",
       "      <td>6</td>\n",
       "      <td>13884</td>\n",
       "      <td>1.001599</td>\n",
       "      <td>5.713886e+07</td>\n",
       "      <td>3.993658e+07</td>\n",
       "    </tr>\n",
       "    <tr>\n",
       "      <th>2</th>\n",
       "      <td>eth-mainnet</td>\n",
       "      <td>1</td>\n",
       "      <td>uniswap_v2</td>\n",
       "      <td>0xc5fb36dd2fb59d3b98deff88425a3f425ee469ed</td>\n",
       "      <td>Dejitaru Tsuka</td>\n",
       "      <td>1.262972e+16</td>\n",
       "      <td>3.407852e+17</td>\n",
       "      <td>https://logos.covalenthq.com/tokens/0xc5fb36dd...</td>\n",
       "      <td>TSUKA</td>\n",
       "      <td>9</td>\n",
       "      <td>7390</td>\n",
       "      <td>0.049920</td>\n",
       "      <td>6.304808e+05</td>\n",
       "      <td>1.701213e+07</td>\n",
       "    </tr>\n",
       "    <tr>\n",
       "      <th>3</th>\n",
       "      <td>eth-mainnet</td>\n",
       "      <td>1</td>\n",
       "      <td>uniswap_v2</td>\n",
       "      <td>0x90f36d7bfba633f17eccc62ec31c58a9a3c04c2a</td>\n",
       "      <td>PulseFloki</td>\n",
       "      <td>1.214589e+24</td>\n",
       "      <td>2.858513e+25</td>\n",
       "      <td>https://logos.covalenthq.com/tokens/0x90f36d7b...</td>\n",
       "      <td>PLSF</td>\n",
       "      <td>18</td>\n",
       "      <td>6772</td>\n",
       "      <td>0.034876</td>\n",
       "      <td>4.235989e+04</td>\n",
       "      <td>9.969321e+05</td>\n",
       "    </tr>\n",
       "    <tr>\n",
       "      <th>4</th>\n",
       "      <td>eth-mainnet</td>\n",
       "      <td>1</td>\n",
       "      <td>uniswap_v2</td>\n",
       "      <td>0x249e38ea4102d0cf8264d3701f1a0e39c4f2dc3b</td>\n",
       "      <td>THE TRUTH</td>\n",
       "      <td>9.299905e+29</td>\n",
       "      <td>3.400948e+30</td>\n",
       "      <td>https://logos.covalenthq.com/tokens/0x249e38ea...</td>\n",
       "      <td>UFO</td>\n",
       "      <td>18</td>\n",
       "      <td>4941</td>\n",
       "      <td>0.000004</td>\n",
       "      <td>3.892959e+06</td>\n",
       "      <td>1.423644e+07</td>\n",
       "    </tr>\n",
       "    <tr>\n",
       "      <th>...</th>\n",
       "      <td>...</td>\n",
       "      <td>...</td>\n",
       "      <td>...</td>\n",
       "      <td>...</td>\n",
       "      <td>...</td>\n",
       "      <td>...</td>\n",
       "      <td>...</td>\n",
       "      <td>...</td>\n",
       "      <td>...</td>\n",
       "      <td>...</td>\n",
       "      <td>...</td>\n",
       "      <td>...</td>\n",
       "      <td>...</td>\n",
       "      <td>...</td>\n",
       "    </tr>\n",
       "    <tr>\n",
       "      <th>5763</th>\n",
       "      <td>eth-mainnet</td>\n",
       "      <td>1</td>\n",
       "      <td>uniswap_v2</td>\n",
       "      <td>0x95efd1fe6099f65a7ed524def487483221094947</td>\n",
       "      <td>Crypto Bonus Miles Token</td>\n",
       "      <td>6.024542e+26</td>\n",
       "      <td>1.400000e+24</td>\n",
       "      <td>https://logos.covalenthq.com/tokens/0x95efd1fe...</td>\n",
       "      <td>CBM</td>\n",
       "      <td>18</td>\n",
       "      <td>1</td>\n",
       "      <td>0.000023</td>\n",
       "      <td>1.408982e+04</td>\n",
       "      <td>3.274232e+01</td>\n",
       "    </tr>\n",
       "    <tr>\n",
       "      <th>5764</th>\n",
       "      <td>eth-mainnet</td>\n",
       "      <td>1</td>\n",
       "      <td>uniswap_v2</td>\n",
       "      <td>0xed025a9fe4b30bcd68460bca42583090c2266468</td>\n",
       "      <td>Ripio Coin</td>\n",
       "      <td>3.759156e+21</td>\n",
       "      <td>7.755948e+20</td>\n",
       "      <td>https://logos.covalenthq.com/tokens/0xed025a9f...</td>\n",
       "      <td>RPC</td>\n",
       "      <td>18</td>\n",
       "      <td>1</td>\n",
       "      <td>0.006482</td>\n",
       "      <td>2.436503e+01</td>\n",
       "      <td>5.027030e+00</td>\n",
       "    </tr>\n",
       "    <tr>\n",
       "      <th>5765</th>\n",
       "      <td>eth-mainnet</td>\n",
       "      <td>1</td>\n",
       "      <td>uniswap_v2</td>\n",
       "      <td>0xdb9ea477a2e1985b437e02c2cd84d72e6bf72c76</td>\n",
       "      <td>Dabdragon Tokens</td>\n",
       "      <td>1.714440e+10</td>\n",
       "      <td>1.000000e+10</td>\n",
       "      <td>https://logos.covalenthq.com/tokens/0xdb9ea477...</td>\n",
       "      <td>DABER</td>\n",
       "      <td>4</td>\n",
       "      <td>1</td>\n",
       "      <td>0.000014</td>\n",
       "      <td>2.452869e+01</td>\n",
       "      <td>1.430712e+01</td>\n",
       "    </tr>\n",
       "    <tr>\n",
       "      <th>5766</th>\n",
       "      <td>eth-mainnet</td>\n",
       "      <td>1</td>\n",
       "      <td>uniswap_v2</td>\n",
       "      <td>0xea089b37d7aa6c23ecdb10397c0f1b5a7a66cca7</td>\n",
       "      <td>Dogcoin</td>\n",
       "      <td>8.209264e+17</td>\n",
       "      <td>1.991523e+16</td>\n",
       "      <td>https://logos.covalenthq.com/tokens/0xea089b37...</td>\n",
       "      <td>DOGS</td>\n",
       "      <td>9</td>\n",
       "      <td>1</td>\n",
       "      <td>0.000003</td>\n",
       "      <td>2.144925e+03</td>\n",
       "      <td>5.203474e+01</td>\n",
       "    </tr>\n",
       "    <tr>\n",
       "      <th>5767</th>\n",
       "      <td>eth-mainnet</td>\n",
       "      <td>1</td>\n",
       "      <td>uniswap_v2</td>\n",
       "      <td>0x2697e0974e4fd348869d9cd414b7eaad8ee35c6e</td>\n",
       "      <td>StonkBase</td>\n",
       "      <td>6.121906e+21</td>\n",
       "      <td>2.510976e+19</td>\n",
       "      <td>https://logos.covalenthq.com/tokens/0x2697e097...</td>\n",
       "      <td>SBF</td>\n",
       "      <td>18</td>\n",
       "      <td>1</td>\n",
       "      <td>0.547336</td>\n",
       "      <td>3.350738e+03</td>\n",
       "      <td>1.374347e+01</td>\n",
       "    </tr>\n",
       "  </tbody>\n",
       "</table>\n",
       "<p>5768 rows × 14 columns</p>\n",
       "</div>"
      ],
      "text/plain": [
       "       chain_name chain_id    dex_name  \\\n",
       "0     eth-mainnet        1  uniswap_v2   \n",
       "1     eth-mainnet        1  uniswap_v2   \n",
       "2     eth-mainnet        1  uniswap_v2   \n",
       "3     eth-mainnet        1  uniswap_v2   \n",
       "4     eth-mainnet        1  uniswap_v2   \n",
       "...           ...      ...         ...   \n",
       "5763  eth-mainnet        1  uniswap_v2   \n",
       "5764  eth-mainnet        1  uniswap_v2   \n",
       "5765  eth-mainnet        1  uniswap_v2   \n",
       "5766  eth-mainnet        1  uniswap_v2   \n",
       "5767  eth-mainnet        1  uniswap_v2   \n",
       "\n",
       "                                contract_address             contract_name  \\\n",
       "0     0xa0b86991c6218b36c1d19d4a2e9eb0ce3606eb48                  USD Coin   \n",
       "1     0xdac17f958d2ee523a2206206994597c13d831ec7                Tether USD   \n",
       "2     0xc5fb36dd2fb59d3b98deff88425a3f425ee469ed            Dejitaru Tsuka   \n",
       "3     0x90f36d7bfba633f17eccc62ec31c58a9a3c04c2a                PulseFloki   \n",
       "4     0x249e38ea4102d0cf8264d3701f1a0e39c4f2dc3b                 THE TRUTH   \n",
       "...                                          ...                       ...   \n",
       "5763  0x95efd1fe6099f65a7ed524def487483221094947  Crypto Bonus Miles Token   \n",
       "5764  0xed025a9fe4b30bcd68460bca42583090c2266468                Ripio Coin   \n",
       "5765  0xdb9ea477a2e1985b437e02c2cd84d72e6bf72c76          Dabdragon Tokens   \n",
       "5766  0xea089b37d7aa6c23ecdb10397c0f1b5a7a66cca7                   Dogcoin   \n",
       "5767  0x2697e0974e4fd348869d9cd414b7eaad8ee35c6e                 StonkBase   \n",
       "\n",
       "      total_liquidity  total_volume_24h  \\\n",
       "0        1.751154e+14      1.548294e+14   \n",
       "1        5.704762e+13      3.987281e+13   \n",
       "2        1.262972e+16      3.407852e+17   \n",
       "3        1.214589e+24      2.858513e+25   \n",
       "4        9.299905e+29      3.400948e+30   \n",
       "...               ...               ...   \n",
       "5763     6.024542e+26      1.400000e+24   \n",
       "5764     3.759156e+21      7.755948e+20   \n",
       "5765     1.714440e+10      1.000000e+10   \n",
       "5766     8.209264e+17      1.991523e+16   \n",
       "5767     6.121906e+21      2.510976e+19   \n",
       "\n",
       "                                               logo_url  \\\n",
       "0     https://logos.covalenthq.com/tokens/0xa0b86991...   \n",
       "1     https://logos.covalenthq.com/tokens/0xdac17f95...   \n",
       "2     https://logos.covalenthq.com/tokens/0xc5fb36dd...   \n",
       "3     https://logos.covalenthq.com/tokens/0x90f36d7b...   \n",
       "4     https://logos.covalenthq.com/tokens/0x249e38ea...   \n",
       "...                                                 ...   \n",
       "5763  https://logos.covalenthq.com/tokens/0x95efd1fe...   \n",
       "5764  https://logos.covalenthq.com/tokens/0xed025a9f...   \n",
       "5765  https://logos.covalenthq.com/tokens/0xdb9ea477...   \n",
       "5766  https://logos.covalenthq.com/tokens/0xea089b37...   \n",
       "5767  https://logos.covalenthq.com/tokens/0x2697e097...   \n",
       "\n",
       "     contract_ticker_symbol  contract_decimals  swap_count_24h  quote_rate  \\\n",
       "0                      USDC                  6           25908    1.001144   \n",
       "1                      USDT                  6           13884    1.001599   \n",
       "2                     TSUKA                  9            7390    0.049920   \n",
       "3                      PLSF                 18            6772    0.034876   \n",
       "4                       UFO                 18            4941    0.000004   \n",
       "...                     ...                ...             ...         ...   \n",
       "5763                    CBM                 18               1    0.000023   \n",
       "5764                    RPC                 18               1    0.006482   \n",
       "5765                  DABER                  4               1    0.000014   \n",
       "5766                   DOGS                  9               1    0.000003   \n",
       "5767                    SBF                 18               1    0.547336   \n",
       "\n",
       "      total_liquidity_quote  total_volume_24h_quote  \n",
       "0              1.753156e+08            1.550065e+08  \n",
       "1              5.713886e+07            3.993658e+07  \n",
       "2              6.304808e+05            1.701213e+07  \n",
       "3              4.235989e+04            9.969321e+05  \n",
       "4              3.892959e+06            1.423644e+07  \n",
       "...                     ...                     ...  \n",
       "5763           1.408982e+04            3.274232e+01  \n",
       "5764           2.436503e+01            5.027030e+00  \n",
       "5765           2.452869e+01            1.430712e+01  \n",
       "5766           2.144925e+03            5.203474e+01  \n",
       "5767           3.350738e+03            1.374347e+01  \n",
       "\n",
       "[5768 rows x 14 columns]"
      ]
     },
     "execution_count": 10,
     "metadata": {},
     "output_type": "execute_result"
    }
   ],
   "source": [
    "#Finding the total rows needed to pair the list down to 200 rows\n",
    "df_len = len(coin_table_df.index)\n",
    "drop_len = df_len - 200\n",
    "\n",
    "#Converting numbers saved as string to float\n",
    "coin_table_df['total_volume_24h'] = coin_table_df['total_volume_24h'].astype(float)\n",
    "coin_table_df['total_liquidity'] = coin_table_df['total_liquidity'].astype(float)\n",
    "coin_table_df['quote_rate'] = coin_table_df['quote_rate'].astype(float)\n",
    "coin_table_df['total_liquidity_quote'] = coin_table_df['total_liquidity_quote'].astype(float)\n",
    "coin_table_df['total_volume_24h_quote'] = coin_table_df['total_volume_24h_quote'].astype(float)\n",
    "\n",
    "#Reindexing by top traded coins to drop the less popular coins\n",
    "coin_table_df = coin_table_df.sort_values('swap_count_24h', ascending=False)\n",
    "coin_table_df = coin_table_df.reset_index(drop=True)\n",
    "\n",
    "#Drop all but top 200 traded in the last 24 hours\n",
    "#coin_table_df = coin_table_df.drop(coin_table_df.tail(drop_len).index)\n",
    "\n",
    "#Preview table\n",
    "coin_table_df"
   ]
  },
  {
   "cell_type": "code",
   "execution_count": 11,
   "id": "af4c63cb-fd33-45ee-be40-6274b764a57e",
   "metadata": {},
   "outputs": [],
   "source": [
    "#Created list of tickers to us as options that can be searched to build custom portfolio\n",
    "ticker_symbol_list = coin_table_df['contract_ticker_symbol'].tolist()\n",
    "#print(ticker_symbol_list)"
   ]
  },
  {
   "cell_type": "code",
   "execution_count": 12,
   "id": "b820453f-9f5e-442c-a5fb-e12ace02b905",
   "metadata": {},
   "outputs": [],
   "source": [
    "#Created dictionary with ticker name: contract name to have if needed\n",
    "ticker_name_dict = dict(zip(coin_table_df.contract_ticker_symbol, coin_table_df.contract_name))\n",
    "#dict(zip(coin_table_df.contract_ticker_symbol, coin_table_df.contract_name))"
   ]
  },
  {
   "cell_type": "code",
   "execution_count": 13,
   "id": "a9e7e643-e494-49c9-8fec-c40d5aa55084",
   "metadata": {},
   "outputs": [],
   "source": [
    "#Created a dictionary with ticker: contact address to use in the price history API pull\n",
    "ticker_contract_dict = dict(zip(coin_table_df.contract_ticker_symbol, coin_table_df.contract_address))\n",
    "#dict(zip(coin_table_df.contract_ticker_symbol, coin_table_df.contract_address))"
   ]
  },
  {
   "cell_type": "code",
   "execution_count": 14,
   "id": "6aade59c-4b33-4beb-8754-7307762cffbf",
   "metadata": {},
   "outputs": [
    {
     "name": "stdout",
     "output_type": "stream",
     "text": [
      "{'UFO': 0.2, 'SHIB': 0.35, 'MATIC': 0.2, 'CEL': 0.075, 'MOPS': 0.075, 'OSAKU': 0.05, 'ELON': 0.05}\n"
     ]
    }
   ],
   "source": [
    "#Sample portfolio imput I would expect to recieve from website\n",
    "portfolio_imput = {\n",
    "    'UFO': .2,\n",
    "    'SHIB': .35,\n",
    "    'MATIC': .2,\n",
    "    'CEL': .075,\n",
    "    'MOPS': .075,\n",
    "    'OSAKU': .05,\n",
    "    'ELON': .05\n",
    "}\n",
    "\n",
    "print(portfolio_imput)"
   ]
  },
  {
   "cell_type": "code",
   "execution_count": 15,
   "id": "88038159-c1b1-4fa9-9964-287bcaecd801",
   "metadata": {},
   "outputs": [
    {
     "name": "stdout",
     "output_type": "stream",
     "text": [
      "['UFO', 'SHIB', 'MATIC', 'CEL', 'MOPS', 'OSAKU', 'ELON']\n"
     ]
    }
   ],
   "source": [
    "#Created a refrence list of tickers submitted\n",
    "ticker_list = list(portfolio_imput.keys())\n",
    "print(ticker_list)"
   ]
  },
  {
   "cell_type": "code",
   "execution_count": 17,
   "id": "0e77dfd8-7d38-4b75-8545-cda79c0c6add",
   "metadata": {},
   "outputs": [],
   "source": [
    "#Check len of ticker list to use to set the count variable\n",
    "len_ticker_list = len(ticker_list)\n",
    "count = len_ticker_list - 1"
   ]
  },
  {
   "cell_type": "code",
   "execution_count": 18,
   "id": "e883b818-9776-4d3f-b8ba-f06103298cf3",
   "metadata": {},
   "outputs": [
    {
     "name": "stdout",
     "output_type": "stream",
     "text": [
      "[0.2, 0.35, 0.2, 0.075, 0.075, 0.05, 0.05]\n"
     ]
    }
   ],
   "source": [
    "#Created a list of weights that pairs with tickers in ticker_list\n",
    "weight_list = list(portfolio_imput.values())\n",
    "print(weight_list)"
   ]
  },
  {
   "cell_type": "code",
   "execution_count": 19,
   "id": "d12cede4-fc88-4570-a3d0-b95b103d3f1b",
   "metadata": {},
   "outputs": [
    {
     "name": "stdout",
     "output_type": "stream",
     "text": [
      "{'UFO': '0x249e38ea4102d0cf8264d3701f1a0e39c4f2dc3b', 'SHIB': '0x5d30596eb3e0b6c5f64b945ecd46a654d42ec6e9', 'MATIC': '0x7d1afa7b718fb893db30a3abc0cfc608aacfebb0', 'CEL': '0xaaaebe6fe48e54f431b0c390cfaf0b017d09d42d', 'MOPS': '0x602f65bb8b8098ad804e99db6760fd36208cd967', 'OSAKU': '0xcbccbb06f572df174a7da47684cdc28121fec421', 'ELON': '0x761d38e5ddf6ccf6cf7c55759d5210750b5d60f3'}\n"
     ]
    }
   ],
   "source": [
    "#Created a dict that refrences the master ticker_contract_dict to pull only our portfolio ticker contract addresses\n",
    "portfolio_contact_dict = { your_key: ticker_contract_dict[your_key] for your_key in portfolio_imput.keys() }\n",
    "print(portfolio_contact_dict)"
   ]
  },
  {
   "cell_type": "code",
   "execution_count": 20,
   "id": "efd2c9ec-acd0-4c88-ba39-b2e7407bf3cc",
   "metadata": {},
   "outputs": [],
   "source": [
    "#While Loop to pull prices for every ticker symbol from covalent api\n",
    "while count > -1:\n",
    "    #Set ref = count to use ref to call the current ticker symbol being used from ticker_list\n",
    "    ref=count\n",
    "    count += -1\n",
    "    contract_id = portfolio_contact_dict[ticker_list[ref]]\n",
    "    cov_coin_price = f'https://api.covalenthq.com/v1/pricing/historical_by_addresses_v2/{chain_id}/USD/{contract_id}/?quote-currency=USD&format=JSON&from={start_date}&to={end_date}&page-number=1&page-size=100000000&key={covalenthq_api_key}'\n",
    "    response_coin_price = requests.get(cov_coin_price).json()\n",
    "    \n",
    "    #Create a temporary dataframe to store the returned price data\n",
    "    coin_price_table = response_coin_price['data'][0]['prices']\n",
    "    coin_price_df = pd.DataFrame(coin_price_table)\n",
    "    \n",
    "    #Checks to see if the dataframe is empty, if there is no price history continues from the top of the while loop\n",
    "    if coin_price_df.empty:\n",
    "        continue\n",
    "    else:\n",
    "        #Changes index to date, cleans data, sets column name to ticker symbol\n",
    "        coin_price_df.set_index('date', inplace=True)\n",
    "        coin_price_df.sort_index(inplace=True)\n",
    "        coin_price_df.drop(columns='contract_metadata', inplace=True)\n",
    "        coin_price_df['price'] = coin_price_df['price'].astype(float)\n",
    "        coin_price_df.rename(columns={'price':ticker_list[ref]}, inplace=True)\n",
    "        \n",
    "        #If the permanant price colelction dataframe is empty replace it, otherwise merch the temp dataframe to permanant\n",
    "        if portfolio_df.empty:\n",
    "            portfolio_df = coin_price_df\n",
    "        else: portfolio_df = pd.concat([portfolio_df, coin_price_df], axis=1)"
   ]
  },
  {
   "cell_type": "code",
   "execution_count": 21,
   "id": "2e34c6ec-8564-40cf-9c4d-2a18f1674873",
   "metadata": {},
   "outputs": [
    {
     "data": {
      "text/html": [
       "<div>\n",
       "<style scoped>\n",
       "    .dataframe tbody tr th:only-of-type {\n",
       "        vertical-align: middle;\n",
       "    }\n",
       "\n",
       "    .dataframe tbody tr th {\n",
       "        vertical-align: top;\n",
       "    }\n",
       "\n",
       "    .dataframe thead th {\n",
       "        text-align: right;\n",
       "    }\n",
       "</style>\n",
       "<table border=\"1\" class=\"dataframe\">\n",
       "  <thead>\n",
       "    <tr style=\"text-align: right;\">\n",
       "      <th></th>\n",
       "      <th>ELON</th>\n",
       "      <th>CEL</th>\n",
       "      <th>MATIC</th>\n",
       "      <th>UFO</th>\n",
       "    </tr>\n",
       "    <tr>\n",
       "      <th>date</th>\n",
       "      <th></th>\n",
       "      <th></th>\n",
       "      <th></th>\n",
       "      <th></th>\n",
       "    </tr>\n",
       "  </thead>\n",
       "  <tbody>\n",
       "    <tr>\n",
       "      <th>2021-04-22</th>\n",
       "      <td>5.123941e-08</td>\n",
       "      <td>6.174217</td>\n",
       "      <td>0.369238</td>\n",
       "      <td>NaN</td>\n",
       "    </tr>\n",
       "    <tr>\n",
       "      <th>2021-04-23</th>\n",
       "      <td>4.913603e-08</td>\n",
       "      <td>6.946690</td>\n",
       "      <td>0.390769</td>\n",
       "      <td>NaN</td>\n",
       "    </tr>\n",
       "    <tr>\n",
       "      <th>2021-04-24</th>\n",
       "      <td>1.012199e-07</td>\n",
       "      <td>6.352832</td>\n",
       "      <td>0.363305</td>\n",
       "      <td>NaN</td>\n",
       "    </tr>\n",
       "    <tr>\n",
       "      <th>2021-04-25</th>\n",
       "      <td>7.103151e-08</td>\n",
       "      <td>5.931757</td>\n",
       "      <td>0.393101</td>\n",
       "      <td>NaN</td>\n",
       "    </tr>\n",
       "    <tr>\n",
       "      <th>2021-04-26</th>\n",
       "      <td>1.023527e-07</td>\n",
       "      <td>5.655553</td>\n",
       "      <td>0.488467</td>\n",
       "      <td>NaN</td>\n",
       "    </tr>\n",
       "    <tr>\n",
       "      <th>...</th>\n",
       "      <td>...</td>\n",
       "      <td>...</td>\n",
       "      <td>...</td>\n",
       "      <td>...</td>\n",
       "    </tr>\n",
       "    <tr>\n",
       "      <th>2021-04-17</th>\n",
       "      <td>NaN</td>\n",
       "      <td>6.611793</td>\n",
       "      <td>0.414492</td>\n",
       "      <td>NaN</td>\n",
       "    </tr>\n",
       "    <tr>\n",
       "      <th>2021-04-18</th>\n",
       "      <td>NaN</td>\n",
       "      <td>6.807167</td>\n",
       "      <td>0.389898</td>\n",
       "      <td>NaN</td>\n",
       "    </tr>\n",
       "    <tr>\n",
       "      <th>2021-04-19</th>\n",
       "      <td>NaN</td>\n",
       "      <td>6.146487</td>\n",
       "      <td>0.328770</td>\n",
       "      <td>NaN</td>\n",
       "    </tr>\n",
       "    <tr>\n",
       "      <th>2021-04-20</th>\n",
       "      <td>NaN</td>\n",
       "      <td>6.108646</td>\n",
       "      <td>0.336976</td>\n",
       "      <td>NaN</td>\n",
       "    </tr>\n",
       "    <tr>\n",
       "      <th>2021-04-21</th>\n",
       "      <td>NaN</td>\n",
       "      <td>6.416783</td>\n",
       "      <td>0.374597</td>\n",
       "      <td>NaN</td>\n",
       "    </tr>\n",
       "  </tbody>\n",
       "</table>\n",
       "<p>1391 rows × 4 columns</p>\n",
       "</div>"
      ],
      "text/plain": [
       "                    ELON       CEL     MATIC  UFO\n",
       "date                                             \n",
       "2021-04-22  5.123941e-08  6.174217  0.369238  NaN\n",
       "2021-04-23  4.913603e-08  6.946690  0.390769  NaN\n",
       "2021-04-24  1.012199e-07  6.352832  0.363305  NaN\n",
       "2021-04-25  7.103151e-08  5.931757  0.393101  NaN\n",
       "2021-04-26  1.023527e-07  5.655553  0.488467  NaN\n",
       "...                  ...       ...       ...  ...\n",
       "2021-04-17           NaN  6.611793  0.414492  NaN\n",
       "2021-04-18           NaN  6.807167  0.389898  NaN\n",
       "2021-04-19           NaN  6.146487  0.328770  NaN\n",
       "2021-04-20           NaN  6.108646  0.336976  NaN\n",
       "2021-04-21           NaN  6.416783  0.374597  NaN\n",
       "\n",
       "[1391 rows x 4 columns]"
      ]
     },
     "execution_count": 21,
     "metadata": {},
     "output_type": "execute_result"
    }
   ],
   "source": [
    "portfolio_df"
   ]
  },
  {
   "cell_type": "code",
   "execution_count": null,
   "id": "05db9ec9-ce33-41ce-87ca-23a0f9a26322",
   "metadata": {},
   "outputs": [],
   "source": [
    "portfolio_df"
   ]
  },
  {
   "cell_type": "code",
   "execution_count": 35,
   "id": "b0f165b3-2dfb-4eb3-a071-17a0ef415701",
   "metadata": {},
   "outputs": [
    {
     "name": "stdout",
     "output_type": "stream",
     "text": [
      "['ELON', 'CEL', 'MATIC', 'UFO']\n"
     ]
    }
   ],
   "source": [
    "found_history = list(portfolio_df.columns)\n",
    "print(found_history)"
   ]
  },
  {
   "cell_type": "code",
   "execution_count": 38,
   "id": "9125dfcb-8a83-4f22-a686-12de6081d141",
   "metadata": {},
   "outputs": [
    {
     "name": "stdout",
     "output_type": "stream",
     "text": [
      "['OSAKU', 'MOPS', 'SHIB']\n"
     ]
    }
   ],
   "source": [
    "no_history = list(set(ticker_list)^set(found_history))\n",
    "print(no_history)"
   ]
  },
  {
   "cell_type": "code",
   "execution_count": 39,
   "id": "de2d4a97-43d8-485a-9179-daa3e15cda32",
   "metadata": {},
   "outputs": [
    {
     "name": "stdout",
     "output_type": "stream",
     "text": [
      "Unfortunatly no data was found for the following tickers: ['OSAKU', 'MOPS', 'SHIB']\n"
     ]
    }
   ],
   "source": [
    "print(f'Unfortunatly no data was found for the following tickers: {no_history}')"
   ]
  },
  {
   "cell_type": "code",
   "execution_count": null,
   "id": "7a37b040-111b-4a05-9983-1674c3c3f786",
   "metadata": {},
   "outputs": [],
   "source": []
  }
 ],
 "metadata": {
  "kernelspec": {
   "display_name": "Python 3 (ipykernel)",
   "language": "python",
   "name": "python3"
  },
  "language_info": {
   "codemirror_mode": {
    "name": "ipython",
    "version": 3
   },
   "file_extension": ".py",
   "mimetype": "text/x-python",
   "name": "python",
   "nbconvert_exporter": "python",
   "pygments_lexer": "ipython3",
   "version": "3.7.13"
  }
 },
 "nbformat": 4,
 "nbformat_minor": 5
}
