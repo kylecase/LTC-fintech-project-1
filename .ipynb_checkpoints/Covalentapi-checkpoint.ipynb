{
 "cells": [
  {
   "cell_type": "code",
   "execution_count": 61,
   "id": "2ef6a02a-2f6d-4c38-a3c5-4a196690fd95",
   "metadata": {},
   "outputs": [],
   "source": [
    "# Initial imports\n",
    "import os\n",
    "import requests\n",
    "import json\n",
    "from dotenv import load_dotenv\n",
    "import pandas as pd\n",
    "from MCForecastTools import MCSimulation\n",
    "import hvplot.pandas\n",
    "from pathlib import Path\n",
    "import seaborn as sns\n",
    "%matplotlib inline\n",
    "import numpy as np"
   ]
  },
  {
   "cell_type": "code",
   "execution_count": 2,
   "id": "d356b7d3-c2e0-4fec-8e22-7d452e681ce9",
   "metadata": {},
   "outputs": [
    {
     "data": {
      "text/plain": [
       "True"
      ]
     },
     "execution_count": 2,
     "metadata": {},
     "output_type": "execute_result"
    }
   ],
   "source": [
    "# Load .env environment variables\n",
    "load_dotenv()"
   ]
  },
  {
   "cell_type": "code",
   "execution_count": 3,
   "id": "71b7883e-223e-43cc-bc10-4f53df9e0d68",
   "metadata": {},
   "outputs": [
    {
     "data": {
      "text/plain": [
       "32"
      ]
     },
     "execution_count": 3,
     "metadata": {},
     "output_type": "execute_result"
    }
   ],
   "source": [
    "#Set CovalentHQ API Key and check length = 32\n",
    "covalenthq_api_key = os.getenv(\"COVALENTHQ_API_KEY\")\n",
    "len(covalenthq_api_key)"
   ]
  },
  {
   "cell_type": "code",
   "execution_count": 4,
   "id": "25338e90-d148-451e-9f69-f90ce4b79a88",
   "metadata": {},
   "outputs": [],
   "source": [
    "#Set Blockchain and Dex_Name parameters for the covalent api pull\n",
    "chain_id = 1\n",
    "dex_name = 'uniswap_v2'\n",
    "start_date = '2017-08-01'\n",
    "end_date = '2022-08-01'\n",
    "\n",
    "portfolio_df = pd.DataFrame()\n",
    "df_dict = {}"
   ]
  },
  {
   "cell_type": "code",
   "execution_count": 5,
   "id": "1e2ed177-a12b-4fb3-a206-86e92b9bfa7f",
   "metadata": {},
   "outputs": [],
   "source": [
    "#Data pull URL with parameters, but not api key\n",
    "cov_coin_list = f\"https://api.covalenthq.com/v1/{chain_id}/xy=k/{dex_name}/tokens/?quote-currency=USD&format=JSON&page-size=1000000000&key=\""
   ]
  },
  {
   "cell_type": "code",
   "execution_count": 6,
   "id": "9a4233d5-6ad8-4e3a-ab84-a8d4b6bf03c5",
   "metadata": {},
   "outputs": [],
   "source": [
    "#Response Data Collection from URL+API_Key \n",
    "response_coin_list = requests.get(cov_coin_list + covalenthq_api_key).json()"
   ]
  },
  {
   "cell_type": "code",
   "execution_count": 7,
   "id": "63146eac-3737-4bed-b70e-694be87e170a",
   "metadata": {},
   "outputs": [],
   "source": [
    "#Create DataFrame from API pull\n",
    "coin_table_ticker = response_coin_list['data']['items']\n",
    "coin_table_df = pd.DataFrame(coin_table_ticker)"
   ]
  },
  {
   "cell_type": "code",
   "execution_count": 8,
   "id": "436d00f6-84f3-4b42-af1c-a8c792dba120",
   "metadata": {},
   "outputs": [
    {
     "data": {
      "text/plain": [
       "chain_name                 0\n",
       "chain_id                   0\n",
       "dex_name                   0\n",
       "contract_address           0\n",
       "contract_name              0\n",
       "total_liquidity            0\n",
       "total_volume_24h           0\n",
       "logo_url                   0\n",
       "contract_ticker_symbol     0\n",
       "contract_decimals          0\n",
       "swap_count_24h             0\n",
       "quote_rate                19\n",
       "total_liquidity_quote     19\n",
       "total_volume_24h_quote    19\n",
       "dtype: int64"
      ]
     },
     "execution_count": 8,
     "metadata": {},
     "output_type": "execute_result"
    }
   ],
   "source": [
    "#Data Cleanup - Check Nulls\n",
    "coin_table_df.isnull().sum()"
   ]
  },
  {
   "cell_type": "code",
   "execution_count": 9,
   "id": "93ad48a8-2aec-4048-b14c-d9a1f2544fdb",
   "metadata": {},
   "outputs": [],
   "source": [
    "#Data Cleanup - Drop Nulls\n",
    "#coin_table_df.dropna()"
   ]
  },
  {
   "cell_type": "code",
   "execution_count": 10,
   "id": "96858fee-a73e-445c-83e5-a27c21a0cfc4",
   "metadata": {},
   "outputs": [
    {
     "data": {
      "text/html": [
       "<div>\n",
       "<style scoped>\n",
       "    .dataframe tbody tr th:only-of-type {\n",
       "        vertical-align: middle;\n",
       "    }\n",
       "\n",
       "    .dataframe tbody tr th {\n",
       "        vertical-align: top;\n",
       "    }\n",
       "\n",
       "    .dataframe thead th {\n",
       "        text-align: right;\n",
       "    }\n",
       "</style>\n",
       "<table border=\"1\" class=\"dataframe\">\n",
       "  <thead>\n",
       "    <tr style=\"text-align: right;\">\n",
       "      <th></th>\n",
       "      <th>chain_name</th>\n",
       "      <th>chain_id</th>\n",
       "      <th>dex_name</th>\n",
       "      <th>contract_address</th>\n",
       "      <th>contract_name</th>\n",
       "      <th>total_liquidity</th>\n",
       "      <th>total_volume_24h</th>\n",
       "      <th>logo_url</th>\n",
       "      <th>contract_ticker_symbol</th>\n",
       "      <th>contract_decimals</th>\n",
       "      <th>swap_count_24h</th>\n",
       "      <th>quote_rate</th>\n",
       "      <th>total_liquidity_quote</th>\n",
       "      <th>total_volume_24h_quote</th>\n",
       "    </tr>\n",
       "  </thead>\n",
       "  <tbody>\n",
       "    <tr>\n",
       "      <th>0</th>\n",
       "      <td>eth-mainnet</td>\n",
       "      <td>1</td>\n",
       "      <td>uniswap_v2</td>\n",
       "      <td>0xa0b86991c6218b36c1d19d4a2e9eb0ce3606eb48</td>\n",
       "      <td>USD Coin</td>\n",
       "      <td>1.674981e+14</td>\n",
       "      <td>1.548294e+14</td>\n",
       "      <td>https://logos.covalenthq.com/tokens/0xa0b86991...</td>\n",
       "      <td>USDC</td>\n",
       "      <td>6</td>\n",
       "      <td>25908</td>\n",
       "      <td>9.992803e-01</td>\n",
       "      <td>1.673775e+08</td>\n",
       "      <td>1.547180e+08</td>\n",
       "    </tr>\n",
       "    <tr>\n",
       "      <th>1</th>\n",
       "      <td>eth-mainnet</td>\n",
       "      <td>1</td>\n",
       "      <td>uniswap_v2</td>\n",
       "      <td>0xdac17f958d2ee523a2206206994597c13d831ec7</td>\n",
       "      <td>Tether USD</td>\n",
       "      <td>5.613197e+13</td>\n",
       "      <td>3.987281e+13</td>\n",
       "      <td>https://logos.covalenthq.com/tokens/0xdac17f95...</td>\n",
       "      <td>USDT</td>\n",
       "      <td>6</td>\n",
       "      <td>13884</td>\n",
       "      <td>1.000158e+00</td>\n",
       "      <td>5.614082e+07</td>\n",
       "      <td>3.987910e+07</td>\n",
       "    </tr>\n",
       "    <tr>\n",
       "      <th>2</th>\n",
       "      <td>eth-mainnet</td>\n",
       "      <td>1</td>\n",
       "      <td>uniswap_v2</td>\n",
       "      <td>0xc5fb36dd2fb59d3b98deff88425a3f425ee469ed</td>\n",
       "      <td>Dejitaru Tsuka</td>\n",
       "      <td>1.313211e+16</td>\n",
       "      <td>3.407852e+17</td>\n",
       "      <td>https://logos.covalenthq.com/tokens/0xc5fb36dd...</td>\n",
       "      <td>TSUKA</td>\n",
       "      <td>9</td>\n",
       "      <td>7390</td>\n",
       "      <td>5.044655e-02</td>\n",
       "      <td>6.624696e+05</td>\n",
       "      <td>1.719143e+07</td>\n",
       "    </tr>\n",
       "    <tr>\n",
       "      <th>3</th>\n",
       "      <td>eth-mainnet</td>\n",
       "      <td>1</td>\n",
       "      <td>uniswap_v2</td>\n",
       "      <td>0x90f36d7bfba633f17eccc62ec31c58a9a3c04c2a</td>\n",
       "      <td>PulseFloki</td>\n",
       "      <td>1.659065e+24</td>\n",
       "      <td>2.858513e+25</td>\n",
       "      <td>https://logos.covalenthq.com/tokens/0x90f36d7b...</td>\n",
       "      <td>PLSF</td>\n",
       "      <td>18</td>\n",
       "      <td>6772</td>\n",
       "      <td>3.224193e-02</td>\n",
       "      <td>5.349146e+04</td>\n",
       "      <td>9.216396e+05</td>\n",
       "    </tr>\n",
       "    <tr>\n",
       "      <th>4</th>\n",
       "      <td>eth-mainnet</td>\n",
       "      <td>1</td>\n",
       "      <td>uniswap_v2</td>\n",
       "      <td>0x249e38ea4102d0cf8264d3701f1a0e39c4f2dc3b</td>\n",
       "      <td>THE TRUTH</td>\n",
       "      <td>9.755694e+29</td>\n",
       "      <td>3.400948e+30</td>\n",
       "      <td>https://logos.covalenthq.com/tokens/0x249e38ea...</td>\n",
       "      <td>UFO</td>\n",
       "      <td>18</td>\n",
       "      <td>4941</td>\n",
       "      <td>3.894846e-06</td>\n",
       "      <td>3.799692e+06</td>\n",
       "      <td>1.324617e+07</td>\n",
       "    </tr>\n",
       "    <tr>\n",
       "      <th>...</th>\n",
       "      <td>...</td>\n",
       "      <td>...</td>\n",
       "      <td>...</td>\n",
       "      <td>...</td>\n",
       "      <td>...</td>\n",
       "      <td>...</td>\n",
       "      <td>...</td>\n",
       "      <td>...</td>\n",
       "      <td>...</td>\n",
       "      <td>...</td>\n",
       "      <td>...</td>\n",
       "      <td>...</td>\n",
       "      <td>...</td>\n",
       "      <td>...</td>\n",
       "    </tr>\n",
       "    <tr>\n",
       "      <th>5763</th>\n",
       "      <td>eth-mainnet</td>\n",
       "      <td>1</td>\n",
       "      <td>uniswap_v2</td>\n",
       "      <td>0x587ad41d5409a5aa7497d4d2dcdd62833df1148d</td>\n",
       "      <td>MCM</td>\n",
       "      <td>1.482277e+20</td>\n",
       "      <td>1.677230e+19</td>\n",
       "      <td>https://logos.covalenthq.com/tokens/0x587ad41d...</td>\n",
       "      <td>MCM</td>\n",
       "      <td>18</td>\n",
       "      <td>1</td>\n",
       "      <td>1.458590e-01</td>\n",
       "      <td>2.162035e+01</td>\n",
       "      <td>2.446392e+00</td>\n",
       "    </tr>\n",
       "    <tr>\n",
       "      <th>5764</th>\n",
       "      <td>eth-mainnet</td>\n",
       "      <td>1</td>\n",
       "      <td>uniswap_v2</td>\n",
       "      <td>0x936ad605716234b77b7a61cdb95d6b6a188da8e8</td>\n",
       "      <td>Yield</td>\n",
       "      <td>3.685425e+20</td>\n",
       "      <td>3.716410e+18</td>\n",
       "      <td>https://logos.covalenthq.com/tokens/0x936ad605...</td>\n",
       "      <td>YIELD</td>\n",
       "      <td>18</td>\n",
       "      <td>1</td>\n",
       "      <td>1.188996e+01</td>\n",
       "      <td>4.381957e+03</td>\n",
       "      <td>4.418798e+01</td>\n",
       "    </tr>\n",
       "    <tr>\n",
       "      <th>5765</th>\n",
       "      <td>eth-mainnet</td>\n",
       "      <td>1</td>\n",
       "      <td>uniswap_v2</td>\n",
       "      <td>0xd9a947789974bad9be77e45c2b327174a9c59d71</td>\n",
       "      <td>Ystar</td>\n",
       "      <td>4.755764e+23</td>\n",
       "      <td>5.786805e+21</td>\n",
       "      <td>https://logos.covalenthq.com/tokens/0xd9a94778...</td>\n",
       "      <td>YSR</td>\n",
       "      <td>18</td>\n",
       "      <td>1</td>\n",
       "      <td>4.695916e-05</td>\n",
       "      <td>2.233267e+01</td>\n",
       "      <td>2.717435e-01</td>\n",
       "    </tr>\n",
       "    <tr>\n",
       "      <th>5766</th>\n",
       "      <td>eth-mainnet</td>\n",
       "      <td>1</td>\n",
       "      <td>uniswap_v2</td>\n",
       "      <td>0x163c754ef4d9c03fc7fa9cf6dd43bfc760e6ce89</td>\n",
       "      <td>MaggotToken</td>\n",
       "      <td>8.548559e+23</td>\n",
       "      <td>2.004636e+23</td>\n",
       "      <td>https://logos.covalenthq.com/tokens/0x163c754e...</td>\n",
       "      <td>MAGGOT</td>\n",
       "      <td>18</td>\n",
       "      <td>1</td>\n",
       "      <td>2.649116e-05</td>\n",
       "      <td>2.264613e+01</td>\n",
       "      <td>5.310513e+00</td>\n",
       "    </tr>\n",
       "    <tr>\n",
       "      <th>5767</th>\n",
       "      <td>eth-mainnet</td>\n",
       "      <td>1</td>\n",
       "      <td>uniswap_v2</td>\n",
       "      <td>0x33771a9c78946e5b8a83a41637eb2e8cc1d06c5e</td>\n",
       "      <td>Lucky Corgi</td>\n",
       "      <td>6.012428e+28</td>\n",
       "      <td>6.246600e+26</td>\n",
       "      <td>https://logos.covalenthq.com/tokens/0x33771a9c...</td>\n",
       "      <td>LCORGI</td>\n",
       "      <td>18</td>\n",
       "      <td>1</td>\n",
       "      <td>8.173522e-08</td>\n",
       "      <td>4.914270e+03</td>\n",
       "      <td>5.105672e+01</td>\n",
       "    </tr>\n",
       "  </tbody>\n",
       "</table>\n",
       "<p>5768 rows × 14 columns</p>\n",
       "</div>"
      ],
      "text/plain": [
       "       chain_name chain_id    dex_name  \\\n",
       "0     eth-mainnet        1  uniswap_v2   \n",
       "1     eth-mainnet        1  uniswap_v2   \n",
       "2     eth-mainnet        1  uniswap_v2   \n",
       "3     eth-mainnet        1  uniswap_v2   \n",
       "4     eth-mainnet        1  uniswap_v2   \n",
       "...           ...      ...         ...   \n",
       "5763  eth-mainnet        1  uniswap_v2   \n",
       "5764  eth-mainnet        1  uniswap_v2   \n",
       "5765  eth-mainnet        1  uniswap_v2   \n",
       "5766  eth-mainnet        1  uniswap_v2   \n",
       "5767  eth-mainnet        1  uniswap_v2   \n",
       "\n",
       "                                contract_address   contract_name  \\\n",
       "0     0xa0b86991c6218b36c1d19d4a2e9eb0ce3606eb48        USD Coin   \n",
       "1     0xdac17f958d2ee523a2206206994597c13d831ec7      Tether USD   \n",
       "2     0xc5fb36dd2fb59d3b98deff88425a3f425ee469ed  Dejitaru Tsuka   \n",
       "3     0x90f36d7bfba633f17eccc62ec31c58a9a3c04c2a      PulseFloki   \n",
       "4     0x249e38ea4102d0cf8264d3701f1a0e39c4f2dc3b       THE TRUTH   \n",
       "...                                          ...             ...   \n",
       "5763  0x587ad41d5409a5aa7497d4d2dcdd62833df1148d             MCM   \n",
       "5764  0x936ad605716234b77b7a61cdb95d6b6a188da8e8           Yield   \n",
       "5765  0xd9a947789974bad9be77e45c2b327174a9c59d71           Ystar   \n",
       "5766  0x163c754ef4d9c03fc7fa9cf6dd43bfc760e6ce89     MaggotToken   \n",
       "5767  0x33771a9c78946e5b8a83a41637eb2e8cc1d06c5e     Lucky Corgi   \n",
       "\n",
       "      total_liquidity  total_volume_24h  \\\n",
       "0        1.674981e+14      1.548294e+14   \n",
       "1        5.613197e+13      3.987281e+13   \n",
       "2        1.313211e+16      3.407852e+17   \n",
       "3        1.659065e+24      2.858513e+25   \n",
       "4        9.755694e+29      3.400948e+30   \n",
       "...               ...               ...   \n",
       "5763     1.482277e+20      1.677230e+19   \n",
       "5764     3.685425e+20      3.716410e+18   \n",
       "5765     4.755764e+23      5.786805e+21   \n",
       "5766     8.548559e+23      2.004636e+23   \n",
       "5767     6.012428e+28      6.246600e+26   \n",
       "\n",
       "                                               logo_url  \\\n",
       "0     https://logos.covalenthq.com/tokens/0xa0b86991...   \n",
       "1     https://logos.covalenthq.com/tokens/0xdac17f95...   \n",
       "2     https://logos.covalenthq.com/tokens/0xc5fb36dd...   \n",
       "3     https://logos.covalenthq.com/tokens/0x90f36d7b...   \n",
       "4     https://logos.covalenthq.com/tokens/0x249e38ea...   \n",
       "...                                                 ...   \n",
       "5763  https://logos.covalenthq.com/tokens/0x587ad41d...   \n",
       "5764  https://logos.covalenthq.com/tokens/0x936ad605...   \n",
       "5765  https://logos.covalenthq.com/tokens/0xd9a94778...   \n",
       "5766  https://logos.covalenthq.com/tokens/0x163c754e...   \n",
       "5767  https://logos.covalenthq.com/tokens/0x33771a9c...   \n",
       "\n",
       "     contract_ticker_symbol  contract_decimals  swap_count_24h    quote_rate  \\\n",
       "0                      USDC                  6           25908  9.992803e-01   \n",
       "1                      USDT                  6           13884  1.000158e+00   \n",
       "2                     TSUKA                  9            7390  5.044655e-02   \n",
       "3                      PLSF                 18            6772  3.224193e-02   \n",
       "4                       UFO                 18            4941  3.894846e-06   \n",
       "...                     ...                ...             ...           ...   \n",
       "5763                    MCM                 18               1  1.458590e-01   \n",
       "5764                  YIELD                 18               1  1.188996e+01   \n",
       "5765                    YSR                 18               1  4.695916e-05   \n",
       "5766                 MAGGOT                 18               1  2.649116e-05   \n",
       "5767                 LCORGI                 18               1  8.173522e-08   \n",
       "\n",
       "      total_liquidity_quote  total_volume_24h_quote  \n",
       "0              1.673775e+08            1.547180e+08  \n",
       "1              5.614082e+07            3.987910e+07  \n",
       "2              6.624696e+05            1.719143e+07  \n",
       "3              5.349146e+04            9.216396e+05  \n",
       "4              3.799692e+06            1.324617e+07  \n",
       "...                     ...                     ...  \n",
       "5763           2.162035e+01            2.446392e+00  \n",
       "5764           4.381957e+03            4.418798e+01  \n",
       "5765           2.233267e+01            2.717435e-01  \n",
       "5766           2.264613e+01            5.310513e+00  \n",
       "5767           4.914270e+03            5.105672e+01  \n",
       "\n",
       "[5768 rows x 14 columns]"
      ]
     },
     "execution_count": 10,
     "metadata": {},
     "output_type": "execute_result"
    }
   ],
   "source": [
    "#Finding the total rows needed to pair the list down to 200 rows\n",
    "df_len = len(coin_table_df.index)\n",
    "drop_len = df_len - 200\n",
    "\n",
    "#Converting numbers saved as string to float\n",
    "coin_table_df['total_volume_24h'] = coin_table_df['total_volume_24h'].astype(float)\n",
    "coin_table_df['total_liquidity'] = coin_table_df['total_liquidity'].astype(float)\n",
    "coin_table_df['quote_rate'] = coin_table_df['quote_rate'].astype(float)\n",
    "coin_table_df['total_liquidity_quote'] = coin_table_df['total_liquidity_quote'].astype(float)\n",
    "coin_table_df['total_volume_24h_quote'] = coin_table_df['total_volume_24h_quote'].astype(float)\n",
    "\n",
    "#Reindexing by top traded coins to drop the less popular coins\n",
    "coin_table_df = coin_table_df.sort_values('swap_count_24h', ascending=False)\n",
    "coin_table_df = coin_table_df.reset_index(drop=True)\n",
    "\n",
    "#Drop all but top 200 traded in the last 24 hours\n",
    "#coin_table_df = coin_table_df.drop(coin_table_df.tail(drop_len).index)\n",
    "\n",
    "#Preview table\n",
    "coin_table_df"
   ]
  },
  {
   "cell_type": "code",
   "execution_count": 11,
   "id": "af4c63cb-fd33-45ee-be40-6274b764a57e",
   "metadata": {},
   "outputs": [],
   "source": [
    "#Created list of tickers to us as options that can be searched to build custom portfolio\n",
    "ticker_symbol_list = coin_table_df['contract_ticker_symbol'].tolist()\n",
    "#print(ticker_symbol_list)"
   ]
  },
  {
   "cell_type": "code",
   "execution_count": 12,
   "id": "b820453f-9f5e-442c-a5fb-e12ace02b905",
   "metadata": {},
   "outputs": [],
   "source": [
    "#Created dictionary with ticker name: contract name to have if needed\n",
    "ticker_name_dict = dict(zip(coin_table_df.contract_ticker_symbol, coin_table_df.contract_name))\n",
    "#dict(zip(coin_table_df.contract_ticker_symbol, coin_table_df.contract_name))"
   ]
  },
  {
   "cell_type": "code",
   "execution_count": 13,
   "id": "a9e7e643-e494-49c9-8fec-c40d5aa55084",
   "metadata": {},
   "outputs": [],
   "source": [
    "#Created a dictionary with ticker: contact address to use in the price history API pull\n",
    "ticker_contract_dict = dict(zip(coin_table_df.contract_ticker_symbol, coin_table_df.contract_address))\n",
    "#dict(zip(coin_table_df.contract_ticker_symbol, coin_table_df.contract_address))"
   ]
  },
  {
   "cell_type": "code",
   "execution_count": 14,
   "id": "6aade59c-4b33-4beb-8754-7307762cffbf",
   "metadata": {},
   "outputs": [
    {
     "name": "stdout",
     "output_type": "stream",
     "text": [
      "{'UFO': 0.2, 'SHIB': 0.35, 'MATIC': 0.2, 'CEL': 0.075, 'MOPS': 0.075, 'OSAKU': 0.05, 'ELON': 0.05}\n"
     ]
    }
   ],
   "source": [
    "#Sample portfolio imput I would expect to recieve from website\n",
    "portfolio_imput = {\n",
    "    'UFO': .2,\n",
    "    'SHIB': .35,\n",
    "    'MATIC': .2,\n",
    "    'CEL': .075,\n",
    "    'MOPS': .075,\n",
    "    'OSAKU': .05,\n",
    "    'ELON': .05\n",
    "}\n",
    "\n",
    "print(portfolio_imput)"
   ]
  },
  {
   "cell_type": "code",
   "execution_count": 15,
   "id": "88038159-c1b1-4fa9-9964-287bcaecd801",
   "metadata": {},
   "outputs": [
    {
     "name": "stdout",
     "output_type": "stream",
     "text": [
      "['UFO', 'SHIB', 'MATIC', 'CEL', 'MOPS', 'OSAKU', 'ELON']\n"
     ]
    }
   ],
   "source": [
    "#Created a refrence list of tickers submitted\n",
    "ticker_list = list(portfolio_imput.keys())\n",
    "print(ticker_list)"
   ]
  },
  {
   "cell_type": "code",
   "execution_count": 16,
   "id": "0e77dfd8-7d38-4b75-8545-cda79c0c6add",
   "metadata": {},
   "outputs": [],
   "source": [
    "#Check len of ticker list to use to set the count variable\n",
    "len_ticker_list = len(ticker_list)\n",
    "count = len_ticker_list - 1"
   ]
  },
  {
   "cell_type": "code",
   "execution_count": 17,
   "id": "e883b818-9776-4d3f-b8ba-f06103298cf3",
   "metadata": {},
   "outputs": [
    {
     "name": "stdout",
     "output_type": "stream",
     "text": [
      "[0.2, 0.35, 0.2, 0.075, 0.075, 0.05, 0.05]\n"
     ]
    }
   ],
   "source": [
    "#Created a list of weights that pairs with tickers in ticker_list\n",
    "weight_list = list(portfolio_imput.values())\n",
    "print(weight_list)"
   ]
  },
  {
   "cell_type": "code",
   "execution_count": 18,
   "id": "d12cede4-fc88-4570-a3d0-b95b103d3f1b",
   "metadata": {},
   "outputs": [
    {
     "name": "stdout",
     "output_type": "stream",
     "text": [
      "{'UFO': '0x249e38ea4102d0cf8264d3701f1a0e39c4f2dc3b', 'SHIB': '0x5d30596eb3e0b6c5f64b945ecd46a654d42ec6e9', 'MATIC': '0x7d1afa7b718fb893db30a3abc0cfc608aacfebb0', 'CEL': '0xaaaebe6fe48e54f431b0c390cfaf0b017d09d42d', 'MOPS': '0x602f65bb8b8098ad804e99db6760fd36208cd967', 'OSAKU': '0xcbccbb06f572df174a7da47684cdc28121fec421', 'ELON': '0x761d38e5ddf6ccf6cf7c55759d5210750b5d60f3'}\n"
     ]
    }
   ],
   "source": [
    "#Created a dict that refrences the master ticker_contract_dict to pull only our portfolio ticker contract addresses\n",
    "portfolio_contact_dict = { your_key: ticker_contract_dict[your_key] for your_key in portfolio_imput.keys() }\n",
    "print(portfolio_contact_dict)"
   ]
  },
  {
   "cell_type": "code",
   "execution_count": 19,
   "id": "efd2c9ec-acd0-4c88-ba39-b2e7407bf3cc",
   "metadata": {},
   "outputs": [],
   "source": [
    "#While Loop to pull prices for every ticker symbol from covalent api\n",
    "while count > -1:\n",
    "    #Set ref = count to use ref to call the current ticker symbol being used from ticker_list\n",
    "    ref=count\n",
    "    count += -1\n",
    "    contract_id = portfolio_contact_dict[ticker_list[ref]]\n",
    "    cov_coin_price = f'https://api.covalenthq.com/v1/pricing/historical_by_addresses_v2/{chain_id}/USD/{contract_id}/?quote-currency=USD&format=JSON&from={start_date}&to={end_date}&page-number=1&page-size=100000000&key={covalenthq_api_key}'\n",
    "    response_coin_price = requests.get(cov_coin_price).json()\n",
    "    \n",
    "    #Create a temporary dataframe to store the returned price data\n",
    "    coin_price_table = response_coin_price['data'][0]['prices']\n",
    "    coin_price_df = pd.DataFrame(coin_price_table)\n",
    "    \n",
    "    #Checks to see if the dataframe is empty, if there is no price history continues from the top of the while loop\n",
    "    if coin_price_df.empty:\n",
    "        continue\n",
    "    else:\n",
    "        #Changes index to date, cleans data, sets column name to ticker symbol\n",
    "        coin_price_df.set_index('date', inplace=True)\n",
    "        coin_price_df.sort_index(inplace=True)\n",
    "        coin_price_df.drop(columns='contract_metadata', inplace=True)\n",
    "        coin_price_df['price'] = coin_price_df['price'].astype(float)\n",
    "        coin_price_df.rename(columns={'price':ticker_list[ref]}, inplace=True)\n",
    "        \n",
    "        \n",
    "        #If the permanant price colelction dataframe is empty replace it, otherwise merch the temp dataframe to permanant\n",
    "        if portfolio_df.empty:\n",
    "            portfolio_df = coin_price_df\n",
    "        else: portfolio_df = pd.concat([portfolio_df, coin_price_df], axis=1)\n",
    "        \n",
    "        df_dict = {**df_dict, **{\n",
    "        ticker_list[ref] : coin_price_df\n",
    "        }}"
   ]
  },
  {
   "cell_type": "code",
   "execution_count": 20,
   "id": "2e34c6ec-8564-40cf-9c4d-2a18f1674873",
   "metadata": {},
   "outputs": [
    {
     "data": {
      "text/html": [
       "<div>\n",
       "<style scoped>\n",
       "    .dataframe tbody tr th:only-of-type {\n",
       "        vertical-align: middle;\n",
       "    }\n",
       "\n",
       "    .dataframe tbody tr th {\n",
       "        vertical-align: top;\n",
       "    }\n",
       "\n",
       "    .dataframe thead th {\n",
       "        text-align: right;\n",
       "    }\n",
       "</style>\n",
       "<table border=\"1\" class=\"dataframe\">\n",
       "  <thead>\n",
       "    <tr style=\"text-align: right;\">\n",
       "      <th></th>\n",
       "      <th>ELON</th>\n",
       "      <th>CEL</th>\n",
       "      <th>MATIC</th>\n",
       "      <th>UFO</th>\n",
       "    </tr>\n",
       "    <tr>\n",
       "      <th>date</th>\n",
       "      <th></th>\n",
       "      <th></th>\n",
       "      <th></th>\n",
       "      <th></th>\n",
       "    </tr>\n",
       "  </thead>\n",
       "  <tbody>\n",
       "    <tr>\n",
       "      <th>2021-04-22</th>\n",
       "      <td>5.123941e-08</td>\n",
       "      <td>6.174217</td>\n",
       "      <td>0.369238</td>\n",
       "      <td>NaN</td>\n",
       "    </tr>\n",
       "    <tr>\n",
       "      <th>2021-04-23</th>\n",
       "      <td>4.913603e-08</td>\n",
       "      <td>6.946690</td>\n",
       "      <td>0.390769</td>\n",
       "      <td>NaN</td>\n",
       "    </tr>\n",
       "    <tr>\n",
       "      <th>2021-04-24</th>\n",
       "      <td>1.012199e-07</td>\n",
       "      <td>6.352832</td>\n",
       "      <td>0.363305</td>\n",
       "      <td>NaN</td>\n",
       "    </tr>\n",
       "    <tr>\n",
       "      <th>2021-04-25</th>\n",
       "      <td>7.103151e-08</td>\n",
       "      <td>5.931757</td>\n",
       "      <td>0.393101</td>\n",
       "      <td>NaN</td>\n",
       "    </tr>\n",
       "    <tr>\n",
       "      <th>2021-04-26</th>\n",
       "      <td>1.023527e-07</td>\n",
       "      <td>5.655553</td>\n",
       "      <td>0.488467</td>\n",
       "      <td>NaN</td>\n",
       "    </tr>\n",
       "    <tr>\n",
       "      <th>...</th>\n",
       "      <td>...</td>\n",
       "      <td>...</td>\n",
       "      <td>...</td>\n",
       "      <td>...</td>\n",
       "    </tr>\n",
       "    <tr>\n",
       "      <th>2021-04-17</th>\n",
       "      <td>NaN</td>\n",
       "      <td>6.611793</td>\n",
       "      <td>0.414492</td>\n",
       "      <td>NaN</td>\n",
       "    </tr>\n",
       "    <tr>\n",
       "      <th>2021-04-18</th>\n",
       "      <td>NaN</td>\n",
       "      <td>6.807167</td>\n",
       "      <td>0.389898</td>\n",
       "      <td>NaN</td>\n",
       "    </tr>\n",
       "    <tr>\n",
       "      <th>2021-04-19</th>\n",
       "      <td>NaN</td>\n",
       "      <td>6.146487</td>\n",
       "      <td>0.328770</td>\n",
       "      <td>NaN</td>\n",
       "    </tr>\n",
       "    <tr>\n",
       "      <th>2021-04-20</th>\n",
       "      <td>NaN</td>\n",
       "      <td>6.108646</td>\n",
       "      <td>0.336976</td>\n",
       "      <td>NaN</td>\n",
       "    </tr>\n",
       "    <tr>\n",
       "      <th>2021-04-21</th>\n",
       "      <td>NaN</td>\n",
       "      <td>6.416783</td>\n",
       "      <td>0.374597</td>\n",
       "      <td>NaN</td>\n",
       "    </tr>\n",
       "  </tbody>\n",
       "</table>\n",
       "<p>1391 rows × 4 columns</p>\n",
       "</div>"
      ],
      "text/plain": [
       "                    ELON       CEL     MATIC  UFO\n",
       "date                                             \n",
       "2021-04-22  5.123941e-08  6.174217  0.369238  NaN\n",
       "2021-04-23  4.913603e-08  6.946690  0.390769  NaN\n",
       "2021-04-24  1.012199e-07  6.352832  0.363305  NaN\n",
       "2021-04-25  7.103151e-08  5.931757  0.393101  NaN\n",
       "2021-04-26  1.023527e-07  5.655553  0.488467  NaN\n",
       "...                  ...       ...       ...  ...\n",
       "2021-04-17           NaN  6.611793  0.414492  NaN\n",
       "2021-04-18           NaN  6.807167  0.389898  NaN\n",
       "2021-04-19           NaN  6.146487  0.328770  NaN\n",
       "2021-04-20           NaN  6.108646  0.336976  NaN\n",
       "2021-04-21           NaN  6.416783  0.374597  NaN\n",
       "\n",
       "[1391 rows x 4 columns]"
      ]
     },
     "execution_count": 20,
     "metadata": {},
     "output_type": "execute_result"
    }
   ],
   "source": [
    "#df check\n",
    "portfolio_df"
   ]
  },
  {
   "cell_type": "code",
   "execution_count": 21,
   "id": "05db9ec9-ce33-41ce-87ca-23a0f9a26322",
   "metadata": {},
   "outputs": [
    {
     "data": {
      "text/plain": [
       "ELON     924\n",
       "CEL        0\n",
       "MATIC    197\n",
       "UFO      992\n",
       "dtype: int64"
      ]
     },
     "execution_count": 21,
     "metadata": {},
     "output_type": "execute_result"
    }
   ],
   "source": [
    "#Check nulls and clean data in the portfolio df\n",
    "portfolio_df.isnull().sum()"
   ]
  },
  {
   "cell_type": "code",
   "execution_count": 22,
   "id": "9465a491-0ab4-490d-b9e9-1b1212dcfa04",
   "metadata": {},
   "outputs": [
    {
     "data": {
      "text/plain": [
       "['UFO', 'SHIB', 'MATIC', 'CEL', 'MOPS', 'OSAKU', 'ELON']"
      ]
     },
     "execution_count": 22,
     "metadata": {},
     "output_type": "execute_result"
    }
   ],
   "source": [
    "ticker_list"
   ]
  },
  {
   "cell_type": "code",
   "execution_count": 23,
   "id": "5c8fbbd3-4a16-4e98-9a9b-d444f58a9dd1",
   "metadata": {},
   "outputs": [
    {
     "name": "stdout",
     "output_type": "stream",
     "text": [
      "Unfortunatly we were unable to pull history for the following tickers: OSAKU, MOPS, SHIB. Your portfolio optimizer will continue with the following tickers: ELON, CEL, MATIC, UFO.\n"
     ]
    }
   ],
   "source": [
    "#Creates a string of headers from portfolio_df to compare to the original ticker_list to see what we couldn't find data for\n",
    "found_history = list(portfolio_df.columns)\n",
    "found_history_string = ' '\n",
    "found_history_string = found_history_string.join(found_history)\n",
    "found_history_string = found_history_string.replace(' ',', ')\n",
    "\n",
    "no_history = list(set(ticker_list)^set(found_history))\n",
    "no_history_string = ' '\n",
    "no_history_string = no_history_string.join(no_history)\n",
    "no_history_string = no_history_string.replace(' ',', ')\n",
    "print(f'Unfortunatly we were unable to pull history for the following tickers: {no_history_string}. Your portfolio optimizer will continue with the following tickers: {found_history_string}.')\n"
   ]
  },
  {
   "cell_type": "code",
   "execution_count": 24,
   "id": "7a37b040-111b-4a05-9983-1674c3c3f786",
   "metadata": {},
   "outputs": [
    {
     "name": "stdout",
     "output_type": "stream",
     "text": [
      "{'ELON': 0.05, 'CEL': 0.075, 'MATIC': 0.2, 'UFO': 0.2}\n"
     ]
    }
   ],
   "source": [
    "portfolio_weight_dict = { your_key: portfolio_imput[your_key] for your_key in found_history}\n",
    "print(portfolio_weight_dict)"
   ]
  },
  {
   "cell_type": "code",
   "execution_count": 25,
   "id": "261f3822-5c7d-4576-a4f0-4272042a5110",
   "metadata": {},
   "outputs": [
    {
     "data": {
      "text/html": [
       "<div>\n",
       "<style scoped>\n",
       "    .dataframe tbody tr th:only-of-type {\n",
       "        vertical-align: middle;\n",
       "    }\n",
       "\n",
       "    .dataframe tbody tr th {\n",
       "        vertical-align: top;\n",
       "    }\n",
       "\n",
       "    .dataframe thead th {\n",
       "        text-align: right;\n",
       "    }\n",
       "</style>\n",
       "<table border=\"1\" class=\"dataframe\">\n",
       "  <thead>\n",
       "    <tr style=\"text-align: right;\">\n",
       "      <th></th>\n",
       "      <th>weights</th>\n",
       "    </tr>\n",
       "  </thead>\n",
       "  <tbody>\n",
       "    <tr>\n",
       "      <th>UFO</th>\n",
       "      <td>0.200</td>\n",
       "    </tr>\n",
       "    <tr>\n",
       "      <th>SHIB</th>\n",
       "      <td>0.350</td>\n",
       "    </tr>\n",
       "    <tr>\n",
       "      <th>MATIC</th>\n",
       "      <td>0.200</td>\n",
       "    </tr>\n",
       "    <tr>\n",
       "      <th>CEL</th>\n",
       "      <td>0.075</td>\n",
       "    </tr>\n",
       "    <tr>\n",
       "      <th>MOPS</th>\n",
       "      <td>0.075</td>\n",
       "    </tr>\n",
       "    <tr>\n",
       "      <th>OSAKU</th>\n",
       "      <td>0.050</td>\n",
       "    </tr>\n",
       "    <tr>\n",
       "      <th>ELON</th>\n",
       "      <td>0.050</td>\n",
       "    </tr>\n",
       "  </tbody>\n",
       "</table>\n",
       "</div>"
      ],
      "text/plain": [
       "       weights\n",
       "UFO      0.200\n",
       "SHIB     0.350\n",
       "MATIC    0.200\n",
       "CEL      0.075\n",
       "MOPS     0.075\n",
       "OSAKU    0.050\n",
       "ELON     0.050"
      ]
     },
     "execution_count": 25,
     "metadata": {},
     "output_type": "execute_result"
    }
   ],
   "source": [
    "imput_df = pd.DataFrame.from_dict(portfolio_imput, orient='index', dtype=float, columns=['weights'])\n",
    "imput_df"
   ]
  },
  {
   "cell_type": "code",
   "execution_count": 26,
   "id": "106ef93d-c3a1-43d8-b2b3-586a0613e6b6",
   "metadata": {},
   "outputs": [],
   "source": [
    "#imput_df['weights'].sum()"
   ]
  },
  {
   "cell_type": "code",
   "execution_count": 27,
   "id": "1a3cc836-61e5-4687-a985-b7fc03e3c9d0",
   "metadata": {},
   "outputs": [],
   "source": [
    "#imput_df['weight_pct'] = imput_df.weights / 1"
   ]
  },
  {
   "cell_type": "code",
   "execution_count": 28,
   "id": "fa39cfe5-82ff-4d15-80f6-e90617308e3f",
   "metadata": {},
   "outputs": [
    {
     "data": {
      "text/html": [
       "<div>\n",
       "<style scoped>\n",
       "    .dataframe tbody tr th:only-of-type {\n",
       "        vertical-align: middle;\n",
       "    }\n",
       "\n",
       "    .dataframe tbody tr th {\n",
       "        vertical-align: top;\n",
       "    }\n",
       "\n",
       "    .dataframe thead th {\n",
       "        text-align: right;\n",
       "    }\n",
       "</style>\n",
       "<table border=\"1\" class=\"dataframe\">\n",
       "  <thead>\n",
       "    <tr style=\"text-align: right;\">\n",
       "      <th></th>\n",
       "      <th>weights</th>\n",
       "    </tr>\n",
       "  </thead>\n",
       "  <tbody>\n",
       "    <tr>\n",
       "      <th>UFO</th>\n",
       "      <td>0.200</td>\n",
       "    </tr>\n",
       "    <tr>\n",
       "      <th>MATIC</th>\n",
       "      <td>0.200</td>\n",
       "    </tr>\n",
       "    <tr>\n",
       "      <th>CEL</th>\n",
       "      <td>0.075</td>\n",
       "    </tr>\n",
       "    <tr>\n",
       "      <th>ELON</th>\n",
       "      <td>0.050</td>\n",
       "    </tr>\n",
       "  </tbody>\n",
       "</table>\n",
       "</div>"
      ],
      "text/plain": [
       "       weights\n",
       "UFO      0.200\n",
       "MATIC    0.200\n",
       "CEL      0.075\n",
       "ELON     0.050"
      ]
     },
     "execution_count": 28,
     "metadata": {},
     "output_type": "execute_result"
    }
   ],
   "source": [
    "imput_df = imput_df.drop(no_history)\n",
    "imput_df"
   ]
  },
  {
   "cell_type": "code",
   "execution_count": 29,
   "id": "2abe8994-7b26-4239-a430-de39b30230ff",
   "metadata": {},
   "outputs": [
    {
     "name": "stdout",
     "output_type": "stream",
     "text": [
      "0.525\n"
     ]
    }
   ],
   "source": [
    "new_weights_total = imput_df['weights'].sum()\n",
    "print(new_weights_total)"
   ]
  },
  {
   "cell_type": "code",
   "execution_count": 79,
   "id": "f80c8f6b-e92e-44ad-a3e8-079c01ad6681",
   "metadata": {},
   "outputs": [
    {
     "data": {
      "text/html": [
       "<div>\n",
       "<style scoped>\n",
       "    .dataframe tbody tr th:only-of-type {\n",
       "        vertical-align: middle;\n",
       "    }\n",
       "\n",
       "    .dataframe tbody tr th {\n",
       "        vertical-align: top;\n",
       "    }\n",
       "\n",
       "    .dataframe thead th {\n",
       "        text-align: right;\n",
       "    }\n",
       "</style>\n",
       "<table border=\"1\" class=\"dataframe\">\n",
       "  <thead>\n",
       "    <tr style=\"text-align: right;\">\n",
       "      <th></th>\n",
       "      <th>weights</th>\n",
       "      <th>new_weight_pct</th>\n",
       "    </tr>\n",
       "  </thead>\n",
       "  <tbody>\n",
       "    <tr>\n",
       "      <th>ELON</th>\n",
       "      <td>0.050</td>\n",
       "      <td>0.10</td>\n",
       "    </tr>\n",
       "    <tr>\n",
       "      <th>CEL</th>\n",
       "      <td>0.075</td>\n",
       "      <td>0.14</td>\n",
       "    </tr>\n",
       "    <tr>\n",
       "      <th>MATIC</th>\n",
       "      <td>0.200</td>\n",
       "      <td>0.38</td>\n",
       "    </tr>\n",
       "    <tr>\n",
       "      <th>UFO</th>\n",
       "      <td>0.200</td>\n",
       "      <td>0.38</td>\n",
       "    </tr>\n",
       "  </tbody>\n",
       "</table>\n",
       "</div>"
      ],
      "text/plain": [
       "       weights  new_weight_pct\n",
       "ELON     0.050            0.10\n",
       "CEL      0.075            0.14\n",
       "MATIC    0.200            0.38\n",
       "UFO      0.200            0.38"
      ]
     },
     "execution_count": 79,
     "metadata": {},
     "output_type": "execute_result"
    }
   ],
   "source": [
    "imput_df['new_weight_pct'] = round(imput_df.weights / new_weights_total,2)\n",
    "imput_df = imput_df.reindex(found_history)\n",
    "imput_df"
   ]
  },
  {
   "cell_type": "code",
   "execution_count": 31,
   "id": "27be5cd8-d473-460a-a94a-e75c5c4a2b4c",
   "metadata": {},
   "outputs": [],
   "source": [
    "#found_history"
   ]
  },
  {
   "cell_type": "code",
   "execution_count": 83,
   "id": "0269b838-b2f4-48e3-84a9-6b64a2dfbe34",
   "metadata": {},
   "outputs": [
    {
     "name": "stdout",
     "output_type": "stream",
     "text": [
      "[0.1, 0.14, 0.38, 0.38]\n"
     ]
    }
   ],
   "source": [
    "new_weights = list(imput_df.new_weight_pct)\n",
    "#for y in new_weights:\n",
    "#    y = str(y)\n",
    "print(new_weights)"
   ]
  },
  {
   "cell_type": "code",
   "execution_count": 34,
   "id": "cf83c2f5-4da6-4a3d-984d-349f665ad276",
   "metadata": {},
   "outputs": [
    {
     "data": {
      "text/plain": [
       "{'ELON':                     ELON\n",
       " date                    \n",
       " 2021-04-22  5.123941e-08\n",
       " 2021-04-23  4.913603e-08\n",
       " 2021-04-24  1.012199e-07\n",
       " 2021-04-25  7.103151e-08\n",
       " 2021-04-26  1.023527e-07\n",
       " ...                  ...\n",
       " 2022-07-28  3.540022e-07\n",
       " 2022-07-29  3.641852e-07\n",
       " 2022-07-30  3.595337e-07\n",
       " 2022-07-31  3.597134e-07\n",
       " 2022-08-01  3.427384e-07\n",
       " \n",
       " [467 rows x 1 columns],\n",
       " 'CEL':                  CEL\n",
       " date                \n",
       " 2018-10-11  0.050710\n",
       " 2018-10-12  0.045609\n",
       " 2018-10-13  0.059793\n",
       " 2018-10-14  0.063529\n",
       " 2018-10-15  0.055884\n",
       " ...              ...\n",
       " 2022-07-28  1.091095\n",
       " 2022-07-29  1.172859\n",
       " 2022-07-30  1.080500\n",
       " 2022-07-31  1.114212\n",
       " 2022-08-01  1.317417\n",
       " \n",
       " [1391 rows x 1 columns],\n",
       " 'MATIC':                MATIC\n",
       " date                \n",
       " 2019-04-26  0.005402\n",
       " 2019-04-27  0.005239\n",
       " 2019-04-28  0.004375\n",
       " 2019-04-29  0.003562\n",
       " 2019-04-30  0.004314\n",
       " ...              ...\n",
       " 2022-07-28  0.899881\n",
       " 2022-07-29  0.941369\n",
       " 2022-07-30  0.937869\n",
       " 2022-07-31  0.941099\n",
       " 2022-08-01  0.897735\n",
       " \n",
       " [1194 rows x 1 columns],\n",
       " 'UFO':                      UFO\n",
       " date                    \n",
       " 2021-06-29  6.480601e-07\n",
       " 2021-06-30  6.745428e-07\n",
       " 2021-07-01  6.750971e-07\n",
       " 2021-07-02  9.073072e-07\n",
       " 2021-07-03  1.589068e-06\n",
       " ...                  ...\n",
       " 2022-07-28  2.189789e-06\n",
       " 2022-07-29  2.422379e-06\n",
       " 2022-07-30  2.625210e-06\n",
       " 2022-07-31  2.658471e-06\n",
       " 2022-08-01  2.574505e-06\n",
       " \n",
       " [399 rows x 1 columns]}"
      ]
     },
     "execution_count": 34,
     "metadata": {},
     "output_type": "execute_result"
    }
   ],
   "source": [
    "df_dict"
   ]
  },
  {
   "cell_type": "code",
   "execution_count": 35,
   "id": "0380df31-4c0d-43d7-bdb8-cfa1f75a2d94",
   "metadata": {},
   "outputs": [
    {
     "data": {
      "text/plain": [
       "{'ELON':                     ELON\n",
       "                    close\n",
       " date                    \n",
       " 2021-04-22  5.123941e-08\n",
       " 2021-04-23  4.913603e-08\n",
       " 2021-04-24  1.012199e-07\n",
       " 2021-04-25  7.103151e-08\n",
       " 2021-04-26  1.023527e-07\n",
       " ...                  ...\n",
       " 2022-07-28  3.540022e-07\n",
       " 2022-07-29  3.641852e-07\n",
       " 2022-07-30  3.595337e-07\n",
       " 2022-07-31  3.597134e-07\n",
       " 2022-08-01  3.427384e-07\n",
       " \n",
       " [467 rows x 1 columns],\n",
       " 'CEL':                  CEL\n",
       "                close\n",
       " date                \n",
       " 2018-10-11  0.050710\n",
       " 2018-10-12  0.045609\n",
       " 2018-10-13  0.059793\n",
       " 2018-10-14  0.063529\n",
       " 2018-10-15  0.055884\n",
       " ...              ...\n",
       " 2022-07-28  1.091095\n",
       " 2022-07-29  1.172859\n",
       " 2022-07-30  1.080500\n",
       " 2022-07-31  1.114212\n",
       " 2022-08-01  1.317417\n",
       " \n",
       " [1391 rows x 1 columns],\n",
       " 'MATIC':                MATIC\n",
       "                close\n",
       " date                \n",
       " 2019-04-26  0.005402\n",
       " 2019-04-27  0.005239\n",
       " 2019-04-28  0.004375\n",
       " 2019-04-29  0.003562\n",
       " 2019-04-30  0.004314\n",
       " ...              ...\n",
       " 2022-07-28  0.899881\n",
       " 2022-07-29  0.941369\n",
       " 2022-07-30  0.937869\n",
       " 2022-07-31  0.941099\n",
       " 2022-08-01  0.897735\n",
       " \n",
       " [1194 rows x 1 columns],\n",
       " 'UFO':                      UFO\n",
       "                    close\n",
       " date                    \n",
       " 2021-06-29  6.480601e-07\n",
       " 2021-06-30  6.745428e-07\n",
       " 2021-07-01  6.750971e-07\n",
       " 2021-07-02  9.073072e-07\n",
       " 2021-07-03  1.589068e-06\n",
       " ...                  ...\n",
       " 2022-07-28  2.189789e-06\n",
       " 2022-07-29  2.422379e-06\n",
       " 2022-07-30  2.625210e-06\n",
       " 2022-07-31  2.658471e-06\n",
       " 2022-08-01  2.574505e-06\n",
       " \n",
       " [399 rows x 1 columns]}"
      ]
     },
     "execution_count": 35,
     "metadata": {},
     "output_type": "execute_result"
    }
   ],
   "source": [
    "x=0\n",
    "while x < len(df_dict):\n",
    "    df_dict[str(found_history[x])].columns = pd.MultiIndex.from_product([df_dict[str(found_history[x])].columns, ['close']])\n",
    "    #df_dict[str(found_history[x])].rename(columns={str(found_history[x]):'close'}, inplace=True, level=0)\n",
    "    #df_dict[str(found_history[x])]['symbol'] = str(found_history[x])\n",
    "    #df_dict[str(found_history[x])] = df_dict[str(found_history[x])][df_dict[str(found_history[x])]['symbol']==str(found_history[x])].drop('symbol', axis=1)\n",
    "    x += 1\n",
    "df_dict"
   ]
  },
  {
   "cell_type": "code",
   "execution_count": 36,
   "id": "03c6cb8f-3e9e-4f2b-83cf-e0c64a5c9537",
   "metadata": {},
   "outputs": [
    {
     "data": {
      "text/plain": [
       "Index(['ELON'], dtype='object')"
      ]
     },
     "execution_count": 36,
     "metadata": {},
     "output_type": "execute_result"
    }
   ],
   "source": [
    "df_dict['ELON'].columns.get_level_values(0).unique()"
   ]
  },
  {
   "cell_type": "code",
   "execution_count": 37,
   "id": "b879ba34-c631-4f45-a845-150689586e91",
   "metadata": {},
   "outputs": [
    {
     "data": {
      "text/plain": [
       "Index(['close'], dtype='object')"
      ]
     },
     "execution_count": 37,
     "metadata": {},
     "output_type": "execute_result"
    }
   ],
   "source": [
    "df_dict['ELON'].columns.get_level_values(1).unique()"
   ]
  },
  {
   "cell_type": "code",
   "execution_count": 38,
   "id": "e320e2ae-c132-4e60-bccc-b3f67f718805",
   "metadata": {},
   "outputs": [],
   "source": [
    "num_sims = 500"
   ]
  },
  {
   "cell_type": "code",
   "execution_count": 39,
   "id": "fbf19567-ea1c-409b-9aea-4ab195af0686",
   "metadata": {},
   "outputs": [],
   "source": [
    "mc_elon = MCSimulation(\n",
    "    portfolio_data = df_dict['ELON'],\n",
    "    num_simulation = num_sims,\n",
    "    num_trading_days = 365\n",
    ")"
   ]
  },
  {
   "cell_type": "code",
   "execution_count": 53,
   "id": "343295db-45ad-4fe2-8e1a-53b9032ae991",
   "metadata": {},
   "outputs": [
    {
     "name": "stdout",
     "output_type": "stream",
     "text": [
      "Running Monte Carlo simulation number 0.\n",
      "Running Monte Carlo simulation number 10.\n",
      "Running Monte Carlo simulation number 20.\n",
      "Running Monte Carlo simulation number 30.\n",
      "Running Monte Carlo simulation number 40.\n",
      "Running Monte Carlo simulation number 50.\n",
      "Running Monte Carlo simulation number 60.\n",
      "Running Monte Carlo simulation number 70.\n",
      "Running Monte Carlo simulation number 80.\n",
      "Running Monte Carlo simulation number 90.\n",
      "Running Monte Carlo simulation number 100.\n",
      "Running Monte Carlo simulation number 110.\n"
     ]
    },
    {
     "name": "stderr",
     "output_type": "stream",
     "text": [
      "C:\\Users\\tjfoo\\Desktop\\LTC-fintech-project-1\\MCForecastTools.py:117: PerformanceWarning: DataFrame is highly fragmented.  This is usually the result of calling `frame.insert` many times, which has poor performance.  Consider joining all columns at once using pd.concat(axis=1) instead.  To get a de-fragmented frame, use `newframe = frame.copy()`\n",
      "  portfolio_cumulative_returns[n] = (1 + sim_df.fillna(0)).cumprod()\n"
     ]
    },
    {
     "name": "stdout",
     "output_type": "stream",
     "text": [
      "Running Monte Carlo simulation number 120.\n",
      "Running Monte Carlo simulation number 130.\n",
      "Running Monte Carlo simulation number 140.\n",
      "Running Monte Carlo simulation number 150.\n",
      "Running Monte Carlo simulation number 160.\n",
      "Running Monte Carlo simulation number 170.\n",
      "Running Monte Carlo simulation number 180.\n",
      "Running Monte Carlo simulation number 190.\n",
      "Running Monte Carlo simulation number 200.\n",
      "Running Monte Carlo simulation number 210.\n",
      "Running Monte Carlo simulation number 220.\n",
      "Running Monte Carlo simulation number 230.\n",
      "Running Monte Carlo simulation number 240.\n",
      "Running Monte Carlo simulation number 250.\n",
      "Running Monte Carlo simulation number 260.\n",
      "Running Monte Carlo simulation number 270.\n",
      "Running Monte Carlo simulation number 280.\n",
      "Running Monte Carlo simulation number 290.\n",
      "Running Monte Carlo simulation number 300.\n",
      "Running Monte Carlo simulation number 310.\n",
      "Running Monte Carlo simulation number 320.\n",
      "Running Monte Carlo simulation number 330.\n",
      "Running Monte Carlo simulation number 340.\n",
      "Running Monte Carlo simulation number 350.\n",
      "Running Monte Carlo simulation number 360.\n",
      "Running Monte Carlo simulation number 370.\n",
      "Running Monte Carlo simulation number 380.\n",
      "Running Monte Carlo simulation number 390.\n",
      "Running Monte Carlo simulation number 400.\n",
      "Running Monte Carlo simulation number 410.\n",
      "Running Monte Carlo simulation number 420.\n",
      "Running Monte Carlo simulation number 430.\n",
      "Running Monte Carlo simulation number 440.\n",
      "Running Monte Carlo simulation number 450.\n",
      "Running Monte Carlo simulation number 460.\n",
      "Running Monte Carlo simulation number 470.\n",
      "Running Monte Carlo simulation number 480.\n",
      "Running Monte Carlo simulation number 490.\n"
     ]
    },
    {
     "data": {
      "text/html": [
       "<div>\n",
       "<style scoped>\n",
       "    .dataframe tbody tr th:only-of-type {\n",
       "        vertical-align: middle;\n",
       "    }\n",
       "\n",
       "    .dataframe tbody tr th {\n",
       "        vertical-align: top;\n",
       "    }\n",
       "\n",
       "    .dataframe thead th {\n",
       "        text-align: right;\n",
       "    }\n",
       "</style>\n",
       "<table border=\"1\" class=\"dataframe\">\n",
       "  <thead>\n",
       "    <tr style=\"text-align: right;\">\n",
       "      <th></th>\n",
       "      <th>0</th>\n",
       "      <th>1</th>\n",
       "      <th>2</th>\n",
       "      <th>3</th>\n",
       "      <th>4</th>\n",
       "      <th>5</th>\n",
       "      <th>6</th>\n",
       "      <th>7</th>\n",
       "      <th>8</th>\n",
       "      <th>9</th>\n",
       "      <th>...</th>\n",
       "      <th>490</th>\n",
       "      <th>491</th>\n",
       "      <th>492</th>\n",
       "      <th>493</th>\n",
       "      <th>494</th>\n",
       "      <th>495</th>\n",
       "      <th>496</th>\n",
       "      <th>497</th>\n",
       "      <th>498</th>\n",
       "      <th>499</th>\n",
       "    </tr>\n",
       "  </thead>\n",
       "  <tbody>\n",
       "    <tr>\n",
       "      <th>0</th>\n",
       "      <td>1.000000</td>\n",
       "      <td>1.000000</td>\n",
       "      <td>1.000000</td>\n",
       "      <td>1.000000</td>\n",
       "      <td>1.000000</td>\n",
       "      <td>1.000000</td>\n",
       "      <td>1.000000</td>\n",
       "      <td>1.000000</td>\n",
       "      <td>1.000000</td>\n",
       "      <td>1.000000</td>\n",
       "      <td>...</td>\n",
       "      <td>1.000000</td>\n",
       "      <td>1.000000</td>\n",
       "      <td>1.000000</td>\n",
       "      <td>1.000000</td>\n",
       "      <td>1.000000</td>\n",
       "      <td>1.000000</td>\n",
       "      <td>1.000000</td>\n",
       "      <td>1.000000</td>\n",
       "      <td>1.000000</td>\n",
       "      <td>1.000000</td>\n",
       "    </tr>\n",
       "    <tr>\n",
       "      <th>1</th>\n",
       "      <td>1.023656</td>\n",
       "      <td>0.802772</td>\n",
       "      <td>0.823551</td>\n",
       "      <td>1.210007</td>\n",
       "      <td>0.894119</td>\n",
       "      <td>0.795005</td>\n",
       "      <td>1.204732</td>\n",
       "      <td>1.145296</td>\n",
       "      <td>1.345351</td>\n",
       "      <td>0.867270</td>\n",
       "      <td>...</td>\n",
       "      <td>0.633616</td>\n",
       "      <td>0.782576</td>\n",
       "      <td>1.018577</td>\n",
       "      <td>0.773174</td>\n",
       "      <td>0.924590</td>\n",
       "      <td>0.930333</td>\n",
       "      <td>1.364050</td>\n",
       "      <td>1.286785</td>\n",
       "      <td>1.149656</td>\n",
       "      <td>1.108169</td>\n",
       "    </tr>\n",
       "    <tr>\n",
       "      <th>2</th>\n",
       "      <td>1.050143</td>\n",
       "      <td>0.897697</td>\n",
       "      <td>0.897963</td>\n",
       "      <td>1.343200</td>\n",
       "      <td>0.933345</td>\n",
       "      <td>0.700694</td>\n",
       "      <td>1.395754</td>\n",
       "      <td>1.534250</td>\n",
       "      <td>1.258366</td>\n",
       "      <td>1.002851</td>\n",
       "      <td>...</td>\n",
       "      <td>0.812936</td>\n",
       "      <td>1.109399</td>\n",
       "      <td>1.160474</td>\n",
       "      <td>0.712596</td>\n",
       "      <td>0.522131</td>\n",
       "      <td>1.235910</td>\n",
       "      <td>1.742924</td>\n",
       "      <td>1.572183</td>\n",
       "      <td>1.363801</td>\n",
       "      <td>1.209536</td>\n",
       "    </tr>\n",
       "    <tr>\n",
       "      <th>3</th>\n",
       "      <td>1.404140</td>\n",
       "      <td>0.974114</td>\n",
       "      <td>0.821862</td>\n",
       "      <td>1.590735</td>\n",
       "      <td>0.927121</td>\n",
       "      <td>0.604945</td>\n",
       "      <td>1.003437</td>\n",
       "      <td>1.594202</td>\n",
       "      <td>1.086327</td>\n",
       "      <td>1.506655</td>\n",
       "      <td>...</td>\n",
       "      <td>0.788444</td>\n",
       "      <td>1.042784</td>\n",
       "      <td>1.405084</td>\n",
       "      <td>0.814441</td>\n",
       "      <td>0.519174</td>\n",
       "      <td>1.276924</td>\n",
       "      <td>2.161556</td>\n",
       "      <td>1.499192</td>\n",
       "      <td>1.364065</td>\n",
       "      <td>0.603493</td>\n",
       "    </tr>\n",
       "    <tr>\n",
       "      <th>4</th>\n",
       "      <td>1.085352</td>\n",
       "      <td>1.171659</td>\n",
       "      <td>0.949467</td>\n",
       "      <td>1.784050</td>\n",
       "      <td>0.876842</td>\n",
       "      <td>0.662178</td>\n",
       "      <td>1.104841</td>\n",
       "      <td>1.428724</td>\n",
       "      <td>0.869008</td>\n",
       "      <td>1.181197</td>\n",
       "      <td>...</td>\n",
       "      <td>0.849201</td>\n",
       "      <td>1.158169</td>\n",
       "      <td>1.104009</td>\n",
       "      <td>0.781059</td>\n",
       "      <td>0.576453</td>\n",
       "      <td>1.441677</td>\n",
       "      <td>2.239806</td>\n",
       "      <td>1.857455</td>\n",
       "      <td>1.016497</td>\n",
       "      <td>0.475508</td>\n",
       "    </tr>\n",
       "    <tr>\n",
       "      <th>...</th>\n",
       "      <td>...</td>\n",
       "      <td>...</td>\n",
       "      <td>...</td>\n",
       "      <td>...</td>\n",
       "      <td>...</td>\n",
       "      <td>...</td>\n",
       "      <td>...</td>\n",
       "      <td>...</td>\n",
       "      <td>...</td>\n",
       "      <td>...</td>\n",
       "      <td>...</td>\n",
       "      <td>...</td>\n",
       "      <td>...</td>\n",
       "      <td>...</td>\n",
       "      <td>...</td>\n",
       "      <td>...</td>\n",
       "      <td>...</td>\n",
       "      <td>...</td>\n",
       "      <td>...</td>\n",
       "      <td>...</td>\n",
       "      <td>...</td>\n",
       "    </tr>\n",
       "    <tr>\n",
       "      <th>361</th>\n",
       "      <td>0.000013</td>\n",
       "      <td>0.002018</td>\n",
       "      <td>0.115759</td>\n",
       "      <td>0.185421</td>\n",
       "      <td>0.055237</td>\n",
       "      <td>0.134244</td>\n",
       "      <td>0.000618</td>\n",
       "      <td>15.460094</td>\n",
       "      <td>0.003852</td>\n",
       "      <td>0.018405</td>\n",
       "      <td>...</td>\n",
       "      <td>0.000140</td>\n",
       "      <td>0.078516</td>\n",
       "      <td>0.000086</td>\n",
       "      <td>14.501168</td>\n",
       "      <td>0.000006</td>\n",
       "      <td>8.269208</td>\n",
       "      <td>0.654355</td>\n",
       "      <td>1.280053</td>\n",
       "      <td>0.193081</td>\n",
       "      <td>0.073425</td>\n",
       "    </tr>\n",
       "    <tr>\n",
       "      <th>362</th>\n",
       "      <td>0.000011</td>\n",
       "      <td>0.002287</td>\n",
       "      <td>0.140590</td>\n",
       "      <td>0.193104</td>\n",
       "      <td>0.022258</td>\n",
       "      <td>0.139838</td>\n",
       "      <td>0.000615</td>\n",
       "      <td>16.407052</td>\n",
       "      <td>0.003329</td>\n",
       "      <td>0.013950</td>\n",
       "      <td>...</td>\n",
       "      <td>0.000131</td>\n",
       "      <td>0.079236</td>\n",
       "      <td>0.000078</td>\n",
       "      <td>15.973845</td>\n",
       "      <td>0.000007</td>\n",
       "      <td>8.125947</td>\n",
       "      <td>0.522888</td>\n",
       "      <td>0.768383</td>\n",
       "      <td>0.185966</td>\n",
       "      <td>0.088269</td>\n",
       "    </tr>\n",
       "    <tr>\n",
       "      <th>363</th>\n",
       "      <td>0.000007</td>\n",
       "      <td>0.002380</td>\n",
       "      <td>0.137680</td>\n",
       "      <td>0.229130</td>\n",
       "      <td>0.030471</td>\n",
       "      <td>0.157871</td>\n",
       "      <td>0.000729</td>\n",
       "      <td>17.790486</td>\n",
       "      <td>0.002436</td>\n",
       "      <td>0.016101</td>\n",
       "      <td>...</td>\n",
       "      <td>0.000115</td>\n",
       "      <td>0.095519</td>\n",
       "      <td>0.000098</td>\n",
       "      <td>19.909815</td>\n",
       "      <td>0.000007</td>\n",
       "      <td>10.130637</td>\n",
       "      <td>0.566431</td>\n",
       "      <td>0.537595</td>\n",
       "      <td>0.199900</td>\n",
       "      <td>0.080562</td>\n",
       "    </tr>\n",
       "    <tr>\n",
       "      <th>364</th>\n",
       "      <td>0.000009</td>\n",
       "      <td>0.002704</td>\n",
       "      <td>0.177222</td>\n",
       "      <td>0.209029</td>\n",
       "      <td>0.028322</td>\n",
       "      <td>0.147535</td>\n",
       "      <td>0.000488</td>\n",
       "      <td>23.227402</td>\n",
       "      <td>0.002943</td>\n",
       "      <td>0.017843</td>\n",
       "      <td>...</td>\n",
       "      <td>0.000131</td>\n",
       "      <td>0.075431</td>\n",
       "      <td>0.000122</td>\n",
       "      <td>19.233708</td>\n",
       "      <td>0.000009</td>\n",
       "      <td>17.364042</td>\n",
       "      <td>0.479440</td>\n",
       "      <td>0.514076</td>\n",
       "      <td>0.191181</td>\n",
       "      <td>0.074055</td>\n",
       "    </tr>\n",
       "    <tr>\n",
       "      <th>365</th>\n",
       "      <td>0.000009</td>\n",
       "      <td>0.002967</td>\n",
       "      <td>0.223990</td>\n",
       "      <td>0.168011</td>\n",
       "      <td>0.033316</td>\n",
       "      <td>0.107745</td>\n",
       "      <td>0.000452</td>\n",
       "      <td>20.836510</td>\n",
       "      <td>0.002471</td>\n",
       "      <td>0.018607</td>\n",
       "      <td>...</td>\n",
       "      <td>0.000096</td>\n",
       "      <td>0.079906</td>\n",
       "      <td>0.000120</td>\n",
       "      <td>17.798534</td>\n",
       "      <td>0.000008</td>\n",
       "      <td>21.068253</td>\n",
       "      <td>0.354844</td>\n",
       "      <td>0.669816</td>\n",
       "      <td>0.247475</td>\n",
       "      <td>0.069269</td>\n",
       "    </tr>\n",
       "  </tbody>\n",
       "</table>\n",
       "<p>366 rows × 500 columns</p>\n",
       "</div>"
      ],
      "text/plain": [
       "          0         1         2         3         4         5         6    \\\n",
       "0    1.000000  1.000000  1.000000  1.000000  1.000000  1.000000  1.000000   \n",
       "1    1.023656  0.802772  0.823551  1.210007  0.894119  0.795005  1.204732   \n",
       "2    1.050143  0.897697  0.897963  1.343200  0.933345  0.700694  1.395754   \n",
       "3    1.404140  0.974114  0.821862  1.590735  0.927121  0.604945  1.003437   \n",
       "4    1.085352  1.171659  0.949467  1.784050  0.876842  0.662178  1.104841   \n",
       "..        ...       ...       ...       ...       ...       ...       ...   \n",
       "361  0.000013  0.002018  0.115759  0.185421  0.055237  0.134244  0.000618   \n",
       "362  0.000011  0.002287  0.140590  0.193104  0.022258  0.139838  0.000615   \n",
       "363  0.000007  0.002380  0.137680  0.229130  0.030471  0.157871  0.000729   \n",
       "364  0.000009  0.002704  0.177222  0.209029  0.028322  0.147535  0.000488   \n",
       "365  0.000009  0.002967  0.223990  0.168011  0.033316  0.107745  0.000452   \n",
       "\n",
       "           7         8         9    ...       490       491       492  \\\n",
       "0     1.000000  1.000000  1.000000  ...  1.000000  1.000000  1.000000   \n",
       "1     1.145296  1.345351  0.867270  ...  0.633616  0.782576  1.018577   \n",
       "2     1.534250  1.258366  1.002851  ...  0.812936  1.109399  1.160474   \n",
       "3     1.594202  1.086327  1.506655  ...  0.788444  1.042784  1.405084   \n",
       "4     1.428724  0.869008  1.181197  ...  0.849201  1.158169  1.104009   \n",
       "..         ...       ...       ...  ...       ...       ...       ...   \n",
       "361  15.460094  0.003852  0.018405  ...  0.000140  0.078516  0.000086   \n",
       "362  16.407052  0.003329  0.013950  ...  0.000131  0.079236  0.000078   \n",
       "363  17.790486  0.002436  0.016101  ...  0.000115  0.095519  0.000098   \n",
       "364  23.227402  0.002943  0.017843  ...  0.000131  0.075431  0.000122   \n",
       "365  20.836510  0.002471  0.018607  ...  0.000096  0.079906  0.000120   \n",
       "\n",
       "           493       494        495       496       497       498       499  \n",
       "0     1.000000  1.000000   1.000000  1.000000  1.000000  1.000000  1.000000  \n",
       "1     0.773174  0.924590   0.930333  1.364050  1.286785  1.149656  1.108169  \n",
       "2     0.712596  0.522131   1.235910  1.742924  1.572183  1.363801  1.209536  \n",
       "3     0.814441  0.519174   1.276924  2.161556  1.499192  1.364065  0.603493  \n",
       "4     0.781059  0.576453   1.441677  2.239806  1.857455  1.016497  0.475508  \n",
       "..         ...       ...        ...       ...       ...       ...       ...  \n",
       "361  14.501168  0.000006   8.269208  0.654355  1.280053  0.193081  0.073425  \n",
       "362  15.973845  0.000007   8.125947  0.522888  0.768383  0.185966  0.088269  \n",
       "363  19.909815  0.000007  10.130637  0.566431  0.537595  0.199900  0.080562  \n",
       "364  19.233708  0.000009  17.364042  0.479440  0.514076  0.191181  0.074055  \n",
       "365  17.798534  0.000008  21.068253  0.354844  0.669816  0.247475  0.069269  \n",
       "\n",
       "[366 rows x 500 columns]"
      ]
     },
     "execution_count": 53,
     "metadata": {},
     "output_type": "execute_result"
    }
   ],
   "source": [
    "mc_elon.calc_cumulative_return()"
   ]
  },
  {
   "cell_type": "code",
   "execution_count": 54,
   "id": "f997a47a-124c-412e-be7b-bea1af1eae91",
   "metadata": {},
   "outputs": [
    {
     "data": {
      "image/png": "[encoded data removed]",
      "text/plain": [
       "<Figure size 432x288 with 1 Axes>"
      ]
     },
     "metadata": {
      "needs_background": "light"
     },
     "output_type": "display_data"
    }
   ],
   "source": [
    "line_plot = mc_elon.plot_simulation()"
   ]
  },
  {
   "cell_type": "code",
   "execution_count": 41,
   "id": "01a6708b-e403-4f34-889c-3d0d1edbd1b3",
   "metadata": {},
   "outputs": [
    {
     "data": {
      "text/html": [
       "<div>\n",
       "<style scoped>\n",
       "    .dataframe tbody tr th:only-of-type {\n",
       "        vertical-align: middle;\n",
       "    }\n",
       "\n",
       "    .dataframe tbody tr th {\n",
       "        vertical-align: top;\n",
       "    }\n",
       "\n",
       "    .dataframe thead th {\n",
       "        text-align: right;\n",
       "    }\n",
       "</style>\n",
       "<table border=\"1\" class=\"dataframe\">\n",
       "  <thead>\n",
       "    <tr style=\"text-align: right;\">\n",
       "      <th></th>\n",
       "      <th>mean</th>\n",
       "      <th>median</th>\n",
       "      <th>min</th>\n",
       "      <th>max</th>\n",
       "    </tr>\n",
       "  </thead>\n",
       "  <tbody>\n",
       "    <tr>\n",
       "      <th>0</th>\n",
       "      <td>1.000000</td>\n",
       "      <td>1.000000</td>\n",
       "      <td>1.000000</td>\n",
       "      <td>1.000000</td>\n",
       "    </tr>\n",
       "    <tr>\n",
       "      <th>1</th>\n",
       "      <td>1.031213</td>\n",
       "      <td>1.026869</td>\n",
       "      <td>0.321285</td>\n",
       "      <td>1.642685</td>\n",
       "    </tr>\n",
       "    <tr>\n",
       "      <th>2</th>\n",
       "      <td>1.052833</td>\n",
       "      <td>1.012773</td>\n",
       "      <td>0.284571</td>\n",
       "      <td>2.282820</td>\n",
       "    </tr>\n",
       "    <tr>\n",
       "      <th>3</th>\n",
       "      <td>1.060720</td>\n",
       "      <td>0.997859</td>\n",
       "      <td>0.234123</td>\n",
       "      <td>2.687860</td>\n",
       "    </tr>\n",
       "    <tr>\n",
       "      <th>4</th>\n",
       "      <td>1.077882</td>\n",
       "      <td>0.992361</td>\n",
       "      <td>0.235397</td>\n",
       "      <td>3.200937</td>\n",
       "    </tr>\n",
       "  </tbody>\n",
       "</table>\n",
       "</div>"
      ],
      "text/plain": [
       "       mean    median       min       max\n",
       "0  1.000000  1.000000  1.000000  1.000000\n",
       "1  1.031213  1.026869  0.321285  1.642685\n",
       "2  1.052833  1.012773  0.284571  2.282820\n",
       "3  1.060720  0.997859  0.234123  2.687860\n",
       "4  1.077882  0.992361  0.235397  3.200937"
      ]
     },
     "execution_count": 41,
     "metadata": {},
     "output_type": "execute_result"
    }
   ],
   "source": [
    "# Compute summary statistics from the simulated daily returns\n",
    "simulated_returns_data = {\n",
    "    \"mean\": list(mc_elon.simulated_return.mean(axis=1)),\n",
    "    \"median\": list(mc_elon.simulated_return.median(axis=1)),\n",
    "    \"min\": list(mc_elon.simulated_return.min(axis=1)),\n",
    "    \"max\": list(mc_elon.simulated_return.max(axis=1))\n",
    "}\n",
    "\n",
    "# Create a DataFrame with the summary statistics\n",
    "df_simulated_returns = pd.DataFrame(simulated_returns_data)\n",
    "\n",
    "# Display sample data\n",
    "df_simulated_returns.head()"
   ]
  },
  {
   "cell_type": "code",
   "execution_count": 55,
   "id": "3fcbac57-d1fe-4e7a-b149-1ebebbb46078",
   "metadata": {},
   "outputs": [
    {
     "data": {
      "text/plain": [
       "<AxesSubplot:>"
      ]
     },
     "execution_count": 55,
     "metadata": {},
     "output_type": "execute_result"
    },
    {
     "data": {
      "image/png": "[encoded data removed]",
      "text/plain": [
       "<Figure size 432x288 with 1 Axes>"
      ]
     },
     "metadata": {
      "needs_background": "light"
     },
     "output_type": "display_data"
    }
   ],
   "source": [
    "df_simulated_returns.plot()"
   ]
  },
  {
   "cell_type": "code",
   "execution_count": 56,
   "id": "804eabcf-e463-40df-810f-daab29a1288d",
   "metadata": {},
   "outputs": [
    {
     "data": {
      "text/html": [
       "<div>\n",
       "<style scoped>\n",
       "    .dataframe tbody tr th:only-of-type {\n",
       "        vertical-align: middle;\n",
       "    }\n",
       "\n",
       "    .dataframe tbody tr th {\n",
       "        vertical-align: top;\n",
       "    }\n",
       "\n",
       "    .dataframe thead th {\n",
       "        text-align: right;\n",
       "    }\n",
       "</style>\n",
       "<table border=\"1\" class=\"dataframe\">\n",
       "  <thead>\n",
       "    <tr style=\"text-align: right;\">\n",
       "      <th></th>\n",
       "      <th>mean</th>\n",
       "      <th>median</th>\n",
       "      <th>min</th>\n",
       "      <th>max</th>\n",
       "    </tr>\n",
       "  </thead>\n",
       "  <tbody>\n",
       "    <tr>\n",
       "      <th>0</th>\n",
       "      <td>10000.000000</td>\n",
       "      <td>10000.000000</td>\n",
       "      <td>10000.000000</td>\n",
       "      <td>10000.000000</td>\n",
       "    </tr>\n",
       "    <tr>\n",
       "      <th>1</th>\n",
       "      <td>10312.134065</td>\n",
       "      <td>10268.691934</td>\n",
       "      <td>3212.847369</td>\n",
       "      <td>16426.850929</td>\n",
       "    </tr>\n",
       "    <tr>\n",
       "      <th>2</th>\n",
       "      <td>10528.327612</td>\n",
       "      <td>10127.726687</td>\n",
       "      <td>2845.714046</td>\n",
       "      <td>22828.196514</td>\n",
       "    </tr>\n",
       "    <tr>\n",
       "      <th>3</th>\n",
       "      <td>10607.204146</td>\n",
       "      <td>9978.592236</td>\n",
       "      <td>2341.228740</td>\n",
       "      <td>26878.602965</td>\n",
       "    </tr>\n",
       "    <tr>\n",
       "      <th>4</th>\n",
       "      <td>10778.824910</td>\n",
       "      <td>9923.611485</td>\n",
       "      <td>2353.971320</td>\n",
       "      <td>32009.365738</td>\n",
       "    </tr>\n",
       "  </tbody>\n",
       "</table>\n",
       "</div>"
      ],
      "text/plain": [
       "           mean        median           min           max\n",
       "0  10000.000000  10000.000000  10000.000000  10000.000000\n",
       "1  10312.134065  10268.691934   3212.847369  16426.850929\n",
       "2  10528.327612  10127.726687   2845.714046  22828.196514\n",
       "3  10607.204146   9978.592236   2341.228740  26878.602965\n",
       "4  10778.824910   9923.611485   2353.971320  32009.365738"
      ]
     },
     "execution_count": 56,
     "metadata": {},
     "output_type": "execute_result"
    }
   ],
   "source": [
    " # Set initial investment\n",
    "initial_investment = 10000\n",
    "\n",
    "# Multiply an initial investment by the daily returns of simulative stock prices to return the progression of daily returns in terms of money\n",
    "cumulative_pnl = initial_investment * df_simulated_returns\n",
    "\n",
    "# Display sample data\n",
    "cumulative_pnl.head()"
   ]
  },
  {
   "cell_type": "code",
   "execution_count": 57,
   "id": "d3a72aa8-28d9-4ba5-a025-decaf1274112",
   "metadata": {},
   "outputs": [
    {
     "name": "stdout",
     "output_type": "stream",
     "text": [
      "count           5.000000e+02\n",
      "mean            6.558695e+01\n",
      "std             4.977451e+02\n",
      "min             8.858980e-07\n",
      "25%             7.050782e-03\n",
      "50%             1.323872e-01\n",
      "75%             1.977396e+00\n",
      "max             7.500160e+03\n",
      "95% CI Lower    4.035948e-05\n",
      "95% CI Upper    4.248155e+02\n",
      "Name: 365, dtype: float64\n"
     ]
    }
   ],
   "source": [
    "# Fetch summary statistics from the Monte Carlo simulation results\n",
    "tbl = mc_elon.summarize_cumulative_return()\n",
    "\n",
    "# Print summary statistics\n",
    "print(tbl)"
   ]
  },
  {
   "cell_type": "code",
   "execution_count": 58,
   "id": "dc1a2fa1-0a3b-4150-961b-0e02bc6ddda0",
   "metadata": {},
   "outputs": [
    {
     "name": "stdout",
     "output_type": "stream",
     "text": [
      "There is a 95% chance that an initial investment of $10,000 in the portfolio over the next year will end within in the range of $0.4 and $4248154.68.\n"
     ]
    }
   ],
   "source": [
    "# Use the lower and upper `95%` confidence intervals to calculate the range of the possible outcomes of our $10,000 investments in TSLA stocks\n",
    "ci_lower = round(tbl[8]*10000,2)\n",
    "ci_upper = round(tbl[9]*10000,2)\n",
    "\n",
    "# Print results\n",
    "print(f\"There is a 95% chance that an initial investment of $10,000 in the portfolio\"\n",
    "      f\" over the next year will end within in the range of\"\n",
    "      f\" ${ci_lower} and ${ci_upper}.\")"
   ]
  },
  {
   "cell_type": "code",
   "execution_count": 59,
   "id": "0c17cc2a-08eb-413c-b1d6-3e52c7799404",
   "metadata": {},
   "outputs": [
    {
     "data": {
      "text/html": [
       "<div>\n",
       "<style scoped>\n",
       "    .dataframe tbody tr th:only-of-type {\n",
       "        vertical-align: middle;\n",
       "    }\n",
       "\n",
       "    .dataframe tbody tr th {\n",
       "        vertical-align: top;\n",
       "    }\n",
       "\n",
       "    .dataframe thead th {\n",
       "        text-align: right;\n",
       "    }\n",
       "</style>\n",
       "<table border=\"1\" class=\"dataframe\">\n",
       "  <thead>\n",
       "    <tr style=\"text-align: right;\">\n",
       "      <th></th>\n",
       "      <th>ELON</th>\n",
       "      <th>CEL</th>\n",
       "      <th>MATIC</th>\n",
       "      <th>UFO</th>\n",
       "    </tr>\n",
       "    <tr>\n",
       "      <th>date</th>\n",
       "      <th></th>\n",
       "      <th></th>\n",
       "      <th></th>\n",
       "      <th></th>\n",
       "    </tr>\n",
       "  </thead>\n",
       "  <tbody>\n",
       "    <tr>\n",
       "      <th>2021-04-22</th>\n",
       "      <td>NaN</td>\n",
       "      <td>NaN</td>\n",
       "      <td>NaN</td>\n",
       "      <td>NaN</td>\n",
       "    </tr>\n",
       "    <tr>\n",
       "      <th>2021-04-23</th>\n",
       "      <td>-0.041050</td>\n",
       "      <td>0.125113</td>\n",
       "      <td>0.058310</td>\n",
       "      <td>NaN</td>\n",
       "    </tr>\n",
       "    <tr>\n",
       "      <th>2021-04-24</th>\n",
       "      <td>1.059994</td>\n",
       "      <td>-0.085488</td>\n",
       "      <td>-0.070281</td>\n",
       "      <td>NaN</td>\n",
       "    </tr>\n",
       "    <tr>\n",
       "      <th>2021-04-25</th>\n",
       "      <td>-0.298246</td>\n",
       "      <td>-0.066281</td>\n",
       "      <td>0.082013</td>\n",
       "      <td>NaN</td>\n",
       "    </tr>\n",
       "    <tr>\n",
       "      <th>2021-04-26</th>\n",
       "      <td>0.440948</td>\n",
       "      <td>-0.046564</td>\n",
       "      <td>0.242598</td>\n",
       "      <td>NaN</td>\n",
       "    </tr>\n",
       "  </tbody>\n",
       "</table>\n",
       "</div>"
      ],
      "text/plain": [
       "                ELON       CEL     MATIC  UFO\n",
       "date                                         \n",
       "2021-04-22       NaN       NaN       NaN  NaN\n",
       "2021-04-23 -0.041050  0.125113  0.058310  NaN\n",
       "2021-04-24  1.059994 -0.085488 -0.070281  NaN\n",
       "2021-04-25 -0.298246 -0.066281  0.082013  NaN\n",
       "2021-04-26  0.440948 -0.046564  0.242598  NaN"
      ]
     },
     "execution_count": 59,
     "metadata": {},
     "output_type": "execute_result"
    }
   ],
   "source": [
    "# Use the `pct_change` function to calculate daily returns\n",
    "daily_returns = portfolio_df.pct_change()\n",
    "daily_returns.head()"
   ]
  },
  {
   "cell_type": "code",
   "execution_count": 62,
   "id": "bca6cfad-79dc-49d3-90f1-7de636b36881",
   "metadata": {},
   "outputs": [
    {
     "data": {
      "text/plain": [
       "UFO      1.416050\n",
       "MATIC    1.653701\n",
       "CEL      1.668994\n",
       "ELON     2.371577\n",
       "dtype: float64"
      ]
     },
     "execution_count": 62,
     "metadata": {},
     "output_type": "execute_result"
    }
   ],
   "source": [
    " # Use the `std` function and multiply by the square root of the number of trading days in a year to get annualized volatility\n",
    "volatility = daily_returns.std() * np.sqrt(365)\n",
    "volatility.sort_values(inplace=True)\n",
    "volatility"
   ]
  },
  {
   "cell_type": "code",
   "execution_count": 84,
   "id": "2bf2009a-56cd-45ae-94bd-03c484aeaa8d",
   "metadata": {},
   "outputs": [
    {
     "data": {
      "text/plain": [
       "date\n",
       "2021-04-22         NaN\n",
       "2021-04-23         NaN\n",
       "2021-04-24         NaN\n",
       "2021-04-25         NaN\n",
       "2021-04-26         NaN\n",
       "                ...   \n",
       "2021-04-17   -0.025998\n",
       "2021-04-18   -0.018410\n",
       "2021-04-19   -0.073164\n",
       "2021-04-20    0.008622\n",
       "2021-04-21    0.049487\n",
       "Length: 1391, dtype: float64"
      ]
     },
     "execution_count": 84,
     "metadata": {},
     "output_type": "execute_result"
    }
   ],
   "source": [
    "portfolio_returns = daily_returns.dot(new_weights)\n",
    "portfolio_returns"
   ]
  },
  {
   "cell_type": "code",
   "execution_count": 85,
   "id": "f332bce9-63ce-46fa-8db0-518ad556337d",
   "metadata": {},
   "outputs": [
    {
     "data": {
      "text/plain": [
       "date\n",
       "2021-04-22          NaN\n",
       "2021-04-23          NaN\n",
       "2021-04-24          NaN\n",
       "2021-04-25          NaN\n",
       "2021-04-26          NaN\n",
       "                ...    \n",
       "2021-04-17    54.959492\n",
       "2021-04-18    53.947691\n",
       "2021-04-19    50.000664\n",
       "2021-04-20    50.431766\n",
       "2021-04-21    52.927502\n",
       "Length: 1391, dtype: float64"
      ]
     },
     "execution_count": 85,
     "metadata": {},
     "output_type": "execute_result"
    }
   ],
   "source": [
    "# Use the `cumprod` function to calculate cumulative returns\n",
    "cumulative_returns = (1 + portfolio_returns).cumprod()\n",
    "cumulative_returns"
   ]
  },
  {
   "cell_type": "code",
   "execution_count": 86,
   "id": "fc74c9aa-15d8-4d6d-bba5-68bbf3f25e62",
   "metadata": {},
   "outputs": [
    {
     "data": {
      "text/plain": [
       "<AxesSubplot:xlabel='date'>"
      ]
     },
     "execution_count": 86,
     "metadata": {},
     "output_type": "execute_result"
    },
    {
     "data": {
      "image/png": "[encoded data removed]",
      "text/plain": [
       "<Figure size 432x288 with 1 Axes>"
      ]
     },
     "metadata": {
      "needs_background": "light"
     },
     "output_type": "display_data"
    }
   ],
   "source": [
    "# Plot the returns of the portfolio in terms of money\n",
    "initial_investment_portfolio = 10000\n",
    "cumulative_profit = initial_investment_portfolio * cumulative_returns\n",
    "cumulative_profit.plot()"
   ]
  },
  {
   "cell_type": "code",
   "execution_count": 87,
   "id": "edd34664-43f5-4c10-b6d7-ca5f5087741d",
   "metadata": {},
   "outputs": [
    {
     "data": {
      "text/html": [
       "<div>\n",
       "<style scoped>\n",
       "    .dataframe tbody tr th:only-of-type {\n",
       "        vertical-align: middle;\n",
       "    }\n",
       "\n",
       "    .dataframe tbody tr th {\n",
       "        vertical-align: top;\n",
       "    }\n",
       "\n",
       "    .dataframe thead th {\n",
       "        text-align: right;\n",
       "    }\n",
       "</style>\n",
       "<table border=\"1\" class=\"dataframe\">\n",
       "  <thead>\n",
       "    <tr style=\"text-align: right;\">\n",
       "      <th></th>\n",
       "      <th>ELON</th>\n",
       "      <th>CEL</th>\n",
       "      <th>MATIC</th>\n",
       "      <th>UFO</th>\n",
       "    </tr>\n",
       "  </thead>\n",
       "  <tbody>\n",
       "    <tr>\n",
       "      <th>ELON</th>\n",
       "      <td>1.000000</td>\n",
       "      <td>0.028090</td>\n",
       "      <td>0.156664</td>\n",
       "      <td>0.295299</td>\n",
       "    </tr>\n",
       "    <tr>\n",
       "      <th>CEL</th>\n",
       "      <td>0.028090</td>\n",
       "      <td>1.000000</td>\n",
       "      <td>0.190767</td>\n",
       "      <td>0.086952</td>\n",
       "    </tr>\n",
       "    <tr>\n",
       "      <th>MATIC</th>\n",
       "      <td>0.156664</td>\n",
       "      <td>0.190767</td>\n",
       "      <td>1.000000</td>\n",
       "      <td>0.126300</td>\n",
       "    </tr>\n",
       "    <tr>\n",
       "      <th>UFO</th>\n",
       "      <td>0.295299</td>\n",
       "      <td>0.086952</td>\n",
       "      <td>0.126300</td>\n",
       "      <td>1.000000</td>\n",
       "    </tr>\n",
       "  </tbody>\n",
       "</table>\n",
       "</div>"
      ],
      "text/plain": [
       "           ELON       CEL     MATIC       UFO\n",
       "ELON   1.000000  0.028090  0.156664  0.295299\n",
       "CEL    0.028090  1.000000  0.190767  0.086952\n",
       "MATIC  0.156664  0.190767  1.000000  0.126300\n",
       "UFO    0.295299  0.086952  0.126300  1.000000"
      ]
     },
     "execution_count": 87,
     "metadata": {},
     "output_type": "execute_result"
    }
   ],
   "source": [
    " # Use the `corr` function to calculate the correlation between stock returns\n",
    "correlation = daily_returns.corr()\n",
    "correlation"
   ]
  },
  {
   "cell_type": "code",
   "execution_count": 88,
   "id": "aa966f1d-f21b-43fc-b307-a65dca6c7c91",
   "metadata": {},
   "outputs": [
    {
     "data": {
      "text/plain": [
       "<AxesSubplot:>"
      ]
     },
     "execution_count": 88,
     "metadata": {},
     "output_type": "execute_result"
    },
    {
     "data": {
      "image/png": "[encoded data removed]",
      "text/plain": [
       "<Figure size 432x288 with 2 Axes>"
      ]
     },
     "metadata": {
      "needs_background": "light"
     },
     "output_type": "display_data"
    }
   ],
   "source": [
    "# Use the `heatmap` function from the Seaborn library to visualize the correlation table\n",
    "sns.heatmap(correlation, vmin=-1, vmax=1)"
   ]
  },
  {
   "cell_type": "code",
   "execution_count": 89,
   "id": "b65a14e3-9bb0-4d6c-88ca-f7df2cad9c2a",
   "metadata": {},
   "outputs": [
    {
     "data": {
      "text/plain": [
       "CEL      1.305809\n",
       "MATIC    1.473731\n",
       "ELON     1.480054\n",
       "UFO      1.508552\n",
       "dtype: float64"
      ]
     },
     "execution_count": 89,
     "metadata": {},
     "output_type": "execute_result"
    }
   ],
   "source": [
    " # Alternatively, sum total correlation for each stock\n",
    "correlation.sum(axis=0).sort_values()"
   ]
  },
  {
   "cell_type": "code",
   "execution_count": 92,
   "id": "dd97a5b2-0552-4fb4-aaa2-4ef05dfdad91",
   "metadata": {},
   "outputs": [
    {
     "data": {
      "text/plain": [
       "ELON     0.959932\n",
       "CEL      1.056988\n",
       "MATIC    1.346072\n",
       "UFO      0.914424\n",
       "dtype: float64"
      ]
     },
     "execution_count": 92,
     "metadata": {},
     "output_type": "execute_result"
    }
   ],
   "source": [
    "# Used the mean and std functions to calculate the annualized sharpe ratio, higher = better\n",
    "sharpe_ratios = (daily_returns.mean() * 365) / (daily_returns.std() * np.sqrt(365))\n",
    "sharpe_ratios"
   ]
  },
  {
   "cell_type": "code",
   "execution_count": null,
   "id": "2f31b0bb-d177-4e26-b266-cbf9e1e3db9e",
   "metadata": {},
   "outputs": [],
   "source": []
  }
 ],
 "metadata": {
  "kernelspec": {
   "display_name": "Python 3 (ipykernel)",
   "language": "python",
   "name": "python3"
  },
  "language_info": {
   "codemirror_mode": {
    "name": "ipython",
    "version": 3
   },
   "file_extension": ".py",
   "mimetype": "text/x-python",
   "name": "python",
   "nbconvert_exporter": "python",
   "pygments_lexer": "ipython3",
   "version": "3.7.13"
  }
 },
 "nbformat": 4,
 "nbformat_minor": 5
}
