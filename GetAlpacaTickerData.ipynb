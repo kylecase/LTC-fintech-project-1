{
 "cells": [
  {
   "cell_type": "code",
   "execution_count": null,
   "id": "5025890d-d1a9-4acd-94e9-74f1a6109951",
   "metadata": {},
   "outputs": [],
   "source": [
    "import os\n",
    "import pandas as pd\n",
    "import alpaca_trade_api as tradeapi\n",
    "from dotenv import load_dotenv\n",
    "\n",
    "load_dotenv() \n",
    "\n",
    "alpaca_api_key = os.getenv(\"ALPACA_API_KEY\")\n",
    "alpaca_secret_key = os.getenv(\"ALPACA_SECRET_KEY\")\n",
    "\n",
    "#Function to return a dataframe of historical trade information for user inputted ticker symbols \n",
    "def make_dataframe(tickers):\n",
    "    api = tradeapi.REST(\n",
    "    alpaca_api_key,\n",
    "    alpaca_secret_key,\n",
    "    )\n",
    "    \n",
    "    #creates the dataframe\n",
    "    df_tickers = api.get_bars(\n",
    "        tickers,\n",
    "        timeframe = '1Day',\n",
    "        start = pd.Timestamp('2017-08-01', tz='America/New_York').isoformat(),\n",
    "        end= pd.Timestamp('2022-08-01', tz='America/New_York').isoformat(),\n",
    "    ).df\n",
    "    \n",
    "    #Drops unnesseary columns\n",
    "    df_tickers = df_tickers.drop(['open', 'high', 'low', 'volume', 'trade_count', 'vwap'], axis=1)\n",
    "    print(df_tickers.head())"
   ]
  }
 ],
 "metadata": {
  "kernelspec": {
   "display_name": "Python 3 (ipykernel)",
   "language": "python",
   "name": "python3"
  },
  "language_info": {
   "codemirror_mode": {
    "name": "ipython",
    "version": 3
   },
   "file_extension": ".py",
   "mimetype": "text/x-python",
   "name": "python",
   "nbconvert_exporter": "python",
   "pygments_lexer": "ipython3",
   "version": "3.7.13"
  }
 },
 "nbformat": 4,
 "nbformat_minor": 5
}
